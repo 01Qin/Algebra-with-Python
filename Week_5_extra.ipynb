{
  "nbformat": 4,
  "nbformat_minor": 0,
  "metadata": {
    "colab": {
      "provenance": [],
      "authorship_tag": "ABX9TyPFdoY5gNFxmhjR0fbjPQGX"
    },
    "kernelspec": {
      "name": "python3",
      "display_name": "Python 3"
    },
    "language_info": {
      "name": "python"
    }
  },
  "cells": [
    {
      "cell_type": "markdown",
      "source": [
        "Notes and work"
      ],
      "metadata": {
        "id": "lEIeKqnJ-4Ch"
      }
    },
    {
      "cell_type": "markdown",
      "source": [
        "1500 = 10x + 500\n",
        "\n",
        "0 = 10x - 1000"
      ],
      "metadata": {
        "id": "NCQsCfVv7Szj"
      }
    },
    {
      "cell_type": "code",
      "execution_count": null,
      "metadata": {
        "id": "lSRrrXzk-wx2"
      },
      "outputs": [],
      "source": []
    },
    {
      "cell_type": "markdown",
      "source": [
        "Solve an equation"
      ],
      "metadata": {
        "id": "R8o8I5QC_Be5"
      }
    },
    {
      "cell_type": "code",
      "source": [
        "import sympy\n",
        "from sympy import symbols\n",
        "from sympy.solvers import solve\n",
        "\n",
        "x = symbols('x')\n",
        "\n",
        "# put the equation here\n",
        "eq = 10*x - 1000\n",
        "solution = solve(eq, x)\n",
        "\n",
        "\n",
        "print(\"x = \", solution[0])"
      ],
      "metadata": {
        "colab": {
          "base_uri": "https://localhost:8080/"
        },
        "id": "FNBm-YSr_FPp",
        "outputId": "36f5fb28-6dde-40e4-bf21-d336c6ab5f87"
      },
      "execution_count": null,
      "outputs": [
        {
          "output_type": "stream",
          "name": "stdout",
          "text": [
            "x =  100\n"
          ]
        }
      ]
    },
    {
      "cell_type": "markdown",
      "source": [
        "Graph the solution"
      ],
      "metadata": {
        "id": "RrkPrPGj7nqa"
      }
    },
    {
      "cell_type": "code",
      "source": [
        "import numpy as np\n",
        "import matplotlib.pyplot as plt\n",
        "\n",
        "x1 = 0\n",
        "y1 = 875\n",
        "x2 = 1\n",
        "y2 = 825\n",
        "\n",
        "# develop the eqution y = mx + b\n",
        "m = (y2 - y1) / (x2 - x1)\n",
        "b = y1 - m * x1\n",
        "print(\"y = \", m, \"x + \", b)\n",
        "print(-50 * 5 + 875) # get a point: x = 5, y = 625\n",
        "\n",
        "# for the graph\n",
        "xmin = 0\n",
        "xmax = 10\n",
        "ymin = 0\n",
        "ymax = 900\n",
        "\n",
        "# for the line on the graph\n",
        "y3 = m * xmin + b\n",
        "y4 = m * xmax + b\n",
        "\n",
        "# create the graph\n",
        "fig, ax = plt.subplots()\n",
        "plt.axis([xmin, xmax, ymin, ymax])\n",
        "plt.plot([xmin, xmax], [0, 0], 'b')\n",
        "plt.plot([0, 0], [ymin, ymax], 'b')\n",
        "\n",
        "# add details to the graph\n",
        "ax.set_xlabel(\"thousands\")\n",
        "ax.set_ylabel(\"tons\")\n",
        "ax.grid(True)\n",
        "ax.set_xticks(np.arange(xmin, xmax, 2))\n",
        "ax.set_yticks(np.arange(ymin, ymax, 100))\n",
        "\n",
        "plt.plot([xmin, xmax], [y3, y4], 'g')\n",
        "plt.show()"
      ],
      "metadata": {
        "colab": {
          "base_uri": "https://localhost:8080/",
          "height": 484
        },
        "id": "irtsCz9x7qD4",
        "outputId": "c084052c-94c5-424f-e757-6d4003472baf"
      },
      "execution_count": null,
      "outputs": [
        {
          "output_type": "stream",
          "name": "stdout",
          "text": [
            "y =  -50.0 x +  875.0\n",
            "625\n"
          ]
        },
        {
          "output_type": "display_data",
          "data": {
            "text/plain": [
              "<Figure size 640x480 with 1 Axes>"
            ],
            "image/png": "[encoded data removed]"
          },
          "metadata": {}
        }
      ]
    }
  ]
}