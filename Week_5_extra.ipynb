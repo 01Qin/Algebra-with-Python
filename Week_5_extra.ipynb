{
  "nbformat": 4,
  "nbformat_minor": 0,
  "metadata": {
    "colab": {
      "provenance": [],
      "authorship_tag": "ABX9TyPE+HnKPWOdpcV7sCxOMMPl"
    },
    "kernelspec": {
      "name": "python3",
      "display_name": "Python 3"
    },
    "language_info": {
      "name": "python"
    }
  },
  "cells": [
    {
      "cell_type": "markdown",
      "source": [
        "Notes and work"
      ],
      "metadata": {
        "id": "lEIeKqnJ-4Ch"
      }
    },
    {
      "cell_type": "markdown",
      "source": [
        "1500 = 10x + 500\n",
        "\n",
        "0 = 10x - 1000"
      ],
      "metadata": {
        "id": "NCQsCfVv7Szj"
      }
    },
    {
      "cell_type": "code",
      "execution_count": null,
      "metadata": {
        "id": "lSRrrXzk-wx2"
      },
      "outputs": [],
      "source": []
    },
    {
      "cell_type": "markdown",
      "source": [
        "Solve an equation"
      ],
      "metadata": {
        "id": "R8o8I5QC_Be5"
      }
    },
    {
      "cell_type": "code",
      "source": [
        "import sympy\n",
        "from sympy import symbols\n",
        "from sympy.solvers import solve\n",
        "\n",
        "x = symbols('x')\n",
        "\n",
        "# put the equation here\n",
        "eq = 10*x - 1000\n",
        "solution = solve(eq, x)\n",
        "\n",
        "\n",
        "print(\"x = \", solution[0])"
      ],
      "metadata": {
        "colab": {
          "base_uri": "https://localhost:8080/"
        },
        "id": "FNBm-YSr_FPp",
        "outputId": "36f5fb28-6dde-40e4-bf21-d336c6ab5f87"
      },
      "execution_count": 2,
      "outputs": [
        {
          "output_type": "stream",
          "name": "stdout",
          "text": [
            "x =  100\n"
          ]
        }
      ]
    }
  ]
}