{
  "nbformat": 4,
  "nbformat_minor": 0,
  "metadata": {
    "colab": {
      "provenance": [],
      "authorship_tag": "ABX9TyMFEEMWpdI9BWxXYxTRuNkH"
    },
    "kernelspec": {
      "name": "python3",
      "display_name": "Python 3"
    },
    "language_info": {
      "name": "python"
    }
  },
  "cells": [
    {
      "cell_type": "markdown",
      "source": [
        "Notes and work"
      ],
      "metadata": {
        "id": "lEIeKqnJ-4Ch"
      }
    },
    {
      "cell_type": "code",
      "execution_count": null,
      "metadata": {
        "id": "lSRrrXzk-wx2"
      },
      "outputs": [],
      "source": [
        "1500 = 10x + 500\n",
        "0 = 10x - 1000"
      ]
    },
    {
      "cell_type": "markdown",
      "source": [
        "Solve an equation"
      ],
      "metadata": {
        "id": "R8o8I5QC_Be5"
      }
    },
    {
      "cell_type": "code",
      "source": [],
      "metadata": {
        "id": "FNBm-YSr_FPp"
      },
      "execution_count": null,
      "outputs": []
    }
  ]
}