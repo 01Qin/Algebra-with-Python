{
  "nbformat": 4,
  "nbformat_minor": 0,
  "metadata": {
    "colab": {
      "provenance": [],
      "toc_visible": true,
      "authorship_tag": "ABX9TyMrWGJV2k4oAAHGVeSm0FS4"
    },
    "kernelspec": {
      "name": "python3",
      "display_name": "Python 3"
    },
    "language_info": {
      "name": "python"
    }
  },
  "cells": [
    {
      "cell_type": "markdown",
      "source": [
        "# Set up proportion:\n"
      ],
      "metadata": {
        "id": "iohB4VpGQLeb"
      }
    },
    {
      "cell_type": "markdown",
      "source": [
        "n1/d1 = n2/d2"
      ],
      "metadata": {
        "id": "ks9lx9pQQaV-"
      }
    },
    {
      "cell_type": "code",
      "source": [
        "n1 = 1\n",
        "d1 = 2\n",
        "n2 = 0\n",
        "d2 = 16\n",
        "\n",
        "if n2 == 0:\n",
        "    answer = d2 * n1 / d1\n",
        "    print(\"n2 = \", answer)\n",
        "if d2 == 0:\n",
        "    answer = n2 * d1 / n1\n",
        "    print(\"d2 = \". answer)\n"
      ],
      "metadata": {
        "colab": {
          "base_uri": "https://localhost:8080/"
        },
        "id": "TZmrrqFmQZYc",
        "outputId": "1fd35db0-9981-4dc8-e2f2-7d1f528ae519"
      },
      "execution_count": 2,
      "outputs": [
        {
          "output_type": "stream",
          "name": "stdout",
          "text": [
            "n2 =  8.0\n"
          ]
        }
      ]
    },
    {
      "cell_type": "code",
      "source": [],
      "metadata": {
        "id": "gtA3eQxZt5Bf"
      },
      "execution_count": null,
      "outputs": []
    }
  ]
}