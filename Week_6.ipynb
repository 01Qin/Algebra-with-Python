{
  "nbformat": 4,
  "nbformat_minor": 0,
  "metadata": {
    "colab": {
      "provenance": [],
      "authorship_tag": "ABX9TyNERfvUb4zJ/RUEL5sCOzRS"
    },
    "kernelspec": {
      "name": "python3",
      "display_name": "Python 3"
    },
    "language_info": {
      "name": "python"
    }
  },
  "cells": [
    {
      "cell_type": "markdown",
      "source": [
        "# Factoring"
      ],
      "metadata": {
        "id": "uhWH-LN3agX9"
      }
    },
    {
      "cell_type": "markdown",
      "source": [
        "THe modulus (%) finds the remainder"
      ],
      "metadata": {
        "id": "YrvYQL7iZ5bW"
      }
    },
    {
      "cell_type": "code",
      "execution_count": 1,
      "metadata": {
        "colab": {
          "base_uri": "https://localhost:8080/"
        },
        "id": "WPndoM9NZunB",
        "outputId": "5edb4a17-ee33-44d6-8f04-0e2c09a4ff99"
      },
      "outputs": [
        {
          "output_type": "stream",
          "name": "stdout",
          "text": [
            "1\n"
          ]
        }
      ],
      "source": [
        "print(31%10)"
      ]
    },
    {
      "cell_type": "markdown",
      "source": [
        "Use the modulus in a loop to find factors"
      ],
      "metadata": {
        "id": "IBSLTW3OaIpe"
      }
    },
    {
      "cell_type": "code",
      "source": [
        "number = 12\n",
        "\n",
        "# find all factors\n",
        "for test_factor in range(1, number + 1):\n",
        "    if number % test_factor == 0:\n",
        "        print(test_factor)"
      ],
      "metadata": {
        "colab": {
          "base_uri": "https://localhost:8080/"
        },
        "id": "3130gHHPaOe7",
        "outputId": "15c51f78-8b04-4839-c733-93cd9142a288"
      },
      "execution_count": 2,
      "outputs": [
        {
          "output_type": "stream",
          "name": "stdout",
          "text": [
            "1\n",
            "2\n",
            "3\n",
            "4\n",
            "6\n",
            "12\n"
          ]
        }
      ]
    }
  ]
}
