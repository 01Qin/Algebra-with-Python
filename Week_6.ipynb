{
  "nbformat": 4,
  "nbformat_minor": 0,
  "metadata": {
    "colab": {
      "provenance": [],
      "authorship_tag": "ABX9TyMj8TKSLUC2imZ4ro4EqSYz"
    },
    "kernelspec": {
      "name": "python3",
      "display_name": "Python 3"
    },
    "language_info": {
      "name": "python"
    }
  },
  "cells": [
    {
      "cell_type": "markdown",
      "source": [
        "# Factoring"
      ],
      "metadata": {
        "id": "uhWH-LN3agX9"
      }
    },
    {
      "cell_type": "markdown",
      "source": [
        "THe modulus (%) finds the remainder"
      ],
      "metadata": {
        "id": "YrvYQL7iZ5bW"
      }
    },
    {
      "cell_type": "code",
      "execution_count": 1,
      "metadata": {
        "colab": {
          "base_uri": "https://localhost:8080/"
        },
        "id": "WPndoM9NZunB",
        "outputId": "5edb4a17-ee33-44d6-8f04-0e2c09a4ff99"
      },
      "outputs": [
        {
          "output_type": "stream",
          "name": "stdout",
          "text": [
            "1\n"
          ]
        }
      ],
      "source": [
        "print(31%10)"
      ]
    },
    {
      "cell_type": "markdown",
      "source": [
        "Use the modulus in a loop to find factors"
      ],
      "metadata": {
        "id": "IBSLTW3OaIpe"
      }
    },
    {
      "cell_type": "code",
      "source": [
        "number = 12\n",
        "\n",
        "# find all factors\n",
        "for test_factor in range(1, number + 1):\n",
        "    if number % test_factor == 0:\n",
        "        print(test_factor)"
      ],
      "metadata": {
        "colab": {
          "base_uri": "https://localhost:8080/"
        },
        "id": "3130gHHPaOe7",
        "outputId": "15c51f78-8b04-4839-c733-93cd9142a288"
      },
      "execution_count": 2,
      "outputs": [
        {
          "output_type": "stream",
          "name": "stdout",
          "text": [
            "1\n",
            "2\n",
            "3\n",
            "4\n",
            "6\n",
            "12\n"
          ]
        }
      ]
    },
    {
      "cell_type": "markdown",
      "source": [
        "Reduce fractions to lowest terms"
      ],
      "metadata": {
        "id": "YYva-QLlKEZ4"
      }
    },
    {
      "cell_type": "code",
      "source": [
        "numerator = 12\n",
        "denominator = 24\n",
        "factor = 1\n",
        "\n",
        "# find greatest common factor\n",
        "for test_factor in range(1, denominator + 1):\n",
        "    if numerator % test_factor == 0 and denominator % test_factor == 0:\n",
        "        factor = test_factor\n",
        "\n",
        "#divide out greatest common factor\n",
        "n = int(numerator / factor)\n",
        "d = int(denominator / factor)\n",
        "\n",
        "print(\"original: \", numerator, \"/\", denominator)\n",
        "print(\"reduced: \", n, \"/\", d)"
      ],
      "metadata": {
        "colab": {
          "base_uri": "https://localhost:8080/"
        },
        "id": "LmAT8ucFKJ6L",
        "outputId": "d2477ce7-ee73-43fe-e3a9-cc151360a8af"
      },
      "execution_count": 1,
      "outputs": [
        {
          "output_type": "stream",
          "name": "stdout",
          "text": [
            "original:  12 / 24\n",
            "reduced:  1 / 2\n"
          ]
        }
      ]
    },
    {
      "cell_type": "markdown",
      "source": [
        "Decimal to fraction"
      ],
      "metadata": {
        "id": "2nshOnfPLbEM"
      }
    },
    {
      "cell_type": "code",
      "source": [
        "# get the decimal number to convert\n",
        "digits = input(\"Enter a decimal number to convert: \")\n",
        "\n",
        "# convert to fraction\n",
        "exponent =int(len(digits)) - 1\n",
        "n = float(digits)\n",
        "numerator = int(n* 10**exponent)\n",
        "denominator = 10**exponent\n",
        "\n",
        "# reduce fraction\n",
        "factor = 1\n",
        "for test_factor in range(1, denominator + 1):\n",
        "    if numerator % test_factor == 0 and denominator % test_factor == 0:\n",
        "        factor = test_factor\n",
        "\n",
        "# divide out greatest common factor\n",
        "num = int(numerator / factor)\n",
        "den = int(denominator / factor)\n",
        "\n",
        "print(\"decimal: \", n)\n",
        "print(\"fraction: \", num, \"/\", den)"
      ],
      "metadata": {
        "colab": {
          "base_uri": "https://localhost:8080/"
        },
        "id": "ECDqcQcTLhRi",
        "outputId": "83e71fdf-ab92-42ac-ec12-a14309f4d7c9"
      },
      "execution_count": 2,
      "outputs": [
        {
          "output_type": "stream",
          "name": "stdout",
          "text": [
            "Enter a decimal number to convert: 0.45\n",
            "decimal:  0.45\n",
            "fraction:  9 / 20\n"
          ]
        }
      ]
    },
    {
      "cell_type": "markdown",
      "source": [
        "# Factoring square *roots*"
      ],
      "metadata": {
        "id": "pyV-mhOwO0TH"
      }
    },
    {
      "cell_type": "code",
      "source": [
        "import math\n",
        "print(math.sqrt(24))"
      ],
      "metadata": {
        "colab": {
          "base_uri": "https://localhost:8080/"
        },
        "id": "AH7l0icBO4Bg",
        "outputId": "2b35468d-0543-42d4-bdc2-a238edc07f53"
      },
      "execution_count": 3,
      "outputs": [
        {
          "output_type": "stream",
          "name": "stdout",
          "text": [
            "4.898979485566356\n"
          ]
        }
      ]
    },
    {
      "cell_type": "markdown",
      "source": [
        "Divide out any perfect suqare factors. For example:<br>\n",
        "$\\sqrt{12}$ = $\\sqrt{4 * 3}$ = 2$\\sqrt{3}$<br>\n",
        "Because 4 is a square numberm, the square root of 4 is now outside the radical."
      ],
      "metadata": {
        "id": "6fA_4MsDPEzw"
      }
    },
    {
      "cell_type": "code",
      "source": [
        "import math\n",
        "\n",
        "# number to factor\n",
        "n = 12\n",
        "\n",
        "# this variable will change\n",
        "max_factor = 1\n",
        "\n",
        "# the key ingredient\n",
        "upper_limit = math.floor(math.sqrt(n)) + 1\n",
        "\n",
        "# find all factors\n",
        "for test_factor in range(1, upper_limit):\n",
        "    if n % (test_factor ** 2)== 0:\n",
        "        max_factor = test_factor\n",
        "\n",
        "# results\n",
        "print(\"n = \", n)\n",
        "print(\"Square rooted factor = \", max_factor)\n",
        "print(\"Square factor = \", max_factor ** 2)\n",
        "print(\"Integer: \", n / (max_factor ** 2))"
      ],
      "metadata": {
        "colab": {
          "base_uri": "https://localhost:8080/"
        },
        "id": "P8Ccd13ZPdn2",
        "outputId": "abe46e65-4145-4afd-a7b0-884def15481f"
      },
      "execution_count": 4,
      "outputs": [
        {
          "output_type": "stream",
          "name": "stdout",
          "text": [
            "n =  12\n",
            "Square rooted factor =  2\n",
            "Square factor =  4\n",
            "Integer:  3.0\n"
          ]
        }
      ]
    },
    {
      "cell_type": "markdown",
      "source": [
        "Using Sympy to make this look nice"
      ],
      "metadata": {
        "id": "vkFdP4tYQtSL"
      }
    },
    {
      "cell_type": "code",
      "source": [
        "import math\n",
        "import sympy\n",
        "from sympy import symbols\n",
        "\n",
        "n = 24\n",
        "\n",
        "# use these variables\n",
        "upper_limit = math.floor(math.sqrt(n)) + 1\n",
        "max_factor = 1\n",
        "other_factor = 1\n",
        "square_root = 1\n",
        "\n",
        "# slightly different variable strategy\n",
        "for test_factor in range(1, upper_limit):\n",
        "    if n % (test_factor ** 2) == 0:\n",
        "        max_factor = test_factor ** 2\n",
        "\n",
        "# didvide out the greatest square factor\n",
        "other_factor = n / max_factor\n",
        "\n",
        "# output variables\n",
        "square_root = int(math.sqrt(max_factor))\n",
        "other_factor = int(other_factor)\n",
        "output = square_root * sympy.sqrt(other_factor)\n",
        "\n",
        "# sympy output without print statement - must be las line\n",
        "output\n"
      ],
      "metadata": {
        "colab": {
          "base_uri": "https://localhost:8080/",
          "height": 39
        },
        "id": "PZMAr6sDQy81",
        "outputId": "43048ae0-255a-4c74-8377-525eb8d04b09"
      },
      "execution_count": 6,
      "outputs": [
        {
          "output_type": "execute_result",
          "data": {
            "text/plain": [
              "2*sqrt(6)"
            ],
            "text/latex": "$\\displaystyle 2 \\sqrt{6}$"
          },
          "metadata": {},
          "execution_count": 6
        }
      ]
    }
  ]
}