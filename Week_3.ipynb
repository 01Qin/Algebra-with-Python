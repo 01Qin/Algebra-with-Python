{
  "nbformat": 4,
  "nbformat_minor": 0,
  "metadata": {
    "colab": {
      "provenance": [],
      "authorship_tag": "ABX9TyPd4jANmOT+HmchCHokIB+o"
    },
    "kernelspec": {
      "name": "python3",
      "display_name": "Python 3"
    },
    "language_info": {
      "name": "python"
    }
  },
  "cells": [
    {
      "cell_type": "markdown",
      "source": [
        "Positive and negative exponents"
      ],
      "metadata": {
        "id": "KVAAFmgo9LZz"
      }
    },
    {
      "cell_type": "code",
      "execution_count": null,
      "metadata": {
        "colab": {
          "base_uri": "https://localhost:8080/"
        },
        "id": "PyoeDyr-9GUP",
        "outputId": "31291d67-1427-491f-bf46-9bfe7ef1bc29"
      },
      "outputs": [
        {
          "output_type": "stream",
          "name": "stdout",
          "text": [
            "10\n",
            "100\n",
            "1000\n",
            "1\n",
            "0.1\n",
            "0.01\n",
            "0.001\n"
          ]
        }
      ],
      "source": [
        "print(10**1)\n",
        "print(10**2)\n",
        "print(10**3)\n",
        "\n",
        "print(10**0)\n",
        "\n",
        "print(10**-1)\n",
        "print(10**-2)\n",
        "print(10**-3)"
      ]
    },
    {
      "cell_type": "markdown",
      "source": [
        "User inputs comes in as a string"
      ],
      "metadata": {
        "id": "su5PRlS09rxd"
      }
    },
    {
      "cell_type": "code",
      "source": [
        "text = input(\"Enter a number: \")\n",
        "print(text)\n",
        "print(len(text))"
      ],
      "metadata": {
        "colab": {
          "base_uri": "https://localhost:8080/"
        },
        "id": "j5sDjy-691Mr",
        "outputId": "b463b6ba-ec70-44f9-f51b-06a3c99e2270"
      },
      "execution_count": null,
      "outputs": [
        {
          "output_type": "stream",
          "name": "stdout",
          "text": [
            "Enter a number: 3.1415926\n",
            "3.1415926\n",
            "9\n"
          ]
        }
      ]
    },
    {
      "cell_type": "markdown",
      "source": [
        "Cast input as a float or int variable"
      ],
      "metadata": {
        "id": "mtcCPZnL-RL2"
      }
    },
    {
      "cell_type": "code",
      "source": [
        "text = input(\"Enter a numnber: \")\n",
        "num = float(text)\n",
        "print(num + 4)"
      ],
      "metadata": {
        "colab": {
          "base_uri": "https://localhost:8080/"
        },
        "id": "c-yX278M-YwZ",
        "outputId": "4a5205fc-68d7-4063-ce7a-eff4c12ce95f"
      },
      "execution_count": null,
      "outputs": [
        {
          "output_type": "stream",
          "name": "stdout",
          "text": [
            "Enter a numnber: -6\n",
            "-2.0\n"
          ]
        }
      ]
    },
    {
      "cell_type": "markdown",
      "source": [
        "Put it all together"
      ],
      "metadata": {
        "id": "ZVwGT8-Y-xl_"
      }
    },
    {
      "cell_type": "code",
      "source": [
        "# Get string input, which will incluse a decimal point\n",
        "digits = input(\"Enter adecimal number to convert: \")\n",
        "\n",
        "# Get number of decimal places as an integer\n",
        "exponent = int(len(digits)) - 1\n",
        "\n",
        "# Convert the input to a float number\n",
        "n = float(digits)\n",
        "\n",
        "# Use the exponent to get the numerator\n",
        "numerator = int(n * 10**exponent)\n",
        "\n",
        "# Use the exponent to get the denominator\n",
        "denominator = 10**exponent\n",
        "\n",
        "# Percent is the first two decimal places\n",
        "percent = n * 100\n",
        "\n",
        "# Output\n",
        "print(\"The decimal is \", n)\n",
        "print(\"The fraction is \", numerator, \"/\", denominator)\n",
        "print(\"The percent is \", percent, \"%\")"
      ],
      "metadata": {
        "id": "aWUDmwsP-z13",
        "colab": {
          "base_uri": "https://localhost:8080/"
        },
        "outputId": "e7874a44-2f6c-4336-9edb-855b1a16744a"
      },
      "execution_count": 2,
      "outputs": [
        {
          "output_type": "stream",
          "name": "stdout",
          "text": [
            "Enter adecimal number to convert: 3.14\n",
            "The decimal is  3.14\n",
            "The fraction is  3140 / 1000\n",
            "The percent is  314.0 %\n"
          ]
        }
      ]
    }
  ]
}