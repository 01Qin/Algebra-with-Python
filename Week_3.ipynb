{
  "nbformat": 4,
  "nbformat_minor": 0,
  "metadata": {
    "colab": {
      "provenance": [],
      "authorship_tag": "ABX9TyM1yoyzB5ghSTXowJ6A56MT"
    },
    "kernelspec": {
      "name": "python3",
      "display_name": "Python 3"
    },
    "language_info": {
      "name": "python"
    }
  },
  "cells": [
    {
      "cell_type": "markdown",
      "source": [
        "Positive and negative exponents"
      ],
      "metadata": {
        "id": "KVAAFmgo9LZz"
      }
    },
    {
      "cell_type": "code",
      "execution_count": 1,
      "metadata": {
        "colab": {
          "base_uri": "https://localhost:8080/"
        },
        "id": "PyoeDyr-9GUP",
        "outputId": "31291d67-1427-491f-bf46-9bfe7ef1bc29"
      },
      "outputs": [
        {
          "output_type": "stream",
          "name": "stdout",
          "text": [
            "10\n",
            "100\n",
            "1000\n",
            "1\n",
            "0.1\n",
            "0.01\n",
            "0.001\n"
          ]
        }
      ],
      "source": [
        "print(10**1)\n",
        "print(10**2)\n",
        "print(10**3)\n",
        "\n",
        "print(10**0)\n",
        "\n",
        "print(10**-1)\n",
        "print(10**-2)\n",
        "print(10**-3)"
      ]
    },
    {
      "cell_type": "markdown",
      "source": [
        "User inputs comes in as a string"
      ],
      "metadata": {
        "id": "su5PRlS09rxd"
      }
    },
    {
      "cell_type": "code",
      "source": [
        "text = input(\"Enter a number: \")\n",
        "print(text)\n",
        "print(len(text))"
      ],
      "metadata": {
        "colab": {
          "base_uri": "https://localhost:8080/"
        },
        "id": "j5sDjy-691Mr",
        "outputId": "b463b6ba-ec70-44f9-f51b-06a3c99e2270"
      },
      "execution_count": 9,
      "outputs": [
        {
          "output_type": "stream",
          "name": "stdout",
          "text": [
            "Enter a number: 3.1415926\n",
            "3.1415926\n",
            "9\n"
          ]
        }
      ]
    },
    {
      "cell_type": "markdown",
      "source": [
        "Cast input as a float or int variable"
      ],
      "metadata": {
        "id": "mtcCPZnL-RL2"
      }
    },
    {
      "cell_type": "code",
      "source": [
        "text = input(\"Enter a numnber: \")\n",
        "num = float(text)\n",
        "print(num + 4)"
      ],
      "metadata": {
        "colab": {
          "base_uri": "https://localhost:8080/"
        },
        "id": "c-yX278M-YwZ",
        "outputId": "4a5205fc-68d7-4063-ce7a-eff4c12ce95f"
      },
      "execution_count": 8,
      "outputs": [
        {
          "output_type": "stream",
          "name": "stdout",
          "text": [
            "Enter a numnber: -6\n",
            "-2.0\n"
          ]
        }
      ]
    },
    {
      "cell_type": "markdown",
      "source": [
        "Put it all together"
      ],
      "metadata": {
        "id": "ZVwGT8-Y-xl_"
      }
    },
    {
      "cell_type": "code",
      "source": [],
      "metadata": {
        "id": "aWUDmwsP-z13"
      },
      "execution_count": null,
      "outputs": []
    }
  ]
}