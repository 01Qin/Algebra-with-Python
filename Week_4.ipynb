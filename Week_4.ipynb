{
  "nbformat": 4,
  "nbformat_minor": 0,
  "metadata": {
    "colab": {
      "provenance": [],
      "authorship_tag": "ABX9TyOX/b+jJANXYw7lzPoxKZiK"
    },
    "kernelspec": {
      "name": "python3",
      "display_name": "Python 3"
    },
    "language_info": {
      "name": "python"
    }
  },
  "cells": [
    {
      "cell_type": "markdown",
      "source": [
        "# Functions"
      ],
      "metadata": {
        "id": "fwtql88tzO-I"
      }
    },
    {
      "cell_type": "markdown",
      "source": [
        "Functions and a table of (x,y) values"
      ],
      "metadata": {
        "id": "WUH7-EQPzYqw"
      }
    },
    {
      "cell_type": "code",
      "source": [
        "x = 5\n",
        "y = 4 * x + 3\n",
        "\n",
        "print(x, \",\", y)\n",
        "print(\"x \\ t y\")\n",
        "\n",
        "for x in range(11):\n",
        "  y = 4 * x + 3\n",
        "  print(x, \"\\t\", y)"
      ],
      "metadata": {
        "colab": {
          "base_uri": "https://localhost:8080/"
        },
        "id": "VhvPDsztzf_l",
        "outputId": "e600c91d-0c28-456c-f758-98929594b78a"
      },
      "execution_count": 1,
      "outputs": [
        {
          "output_type": "stream",
          "name": "stdout",
          "text": [
            "5 , 23\n",
            "x \\ t y\n",
            "0 \t 3\n",
            "1 \t 7\n",
            "2 \t 11\n",
            "3 \t 15\n",
            "4 \t 19\n",
            "5 \t 23\n",
            "6 \t 27\n",
            "7 \t 31\n",
            "8 \t 35\n",
            "9 \t 39\n",
            "10 \t 43\n"
          ]
        }
      ]
    }
  ]
}