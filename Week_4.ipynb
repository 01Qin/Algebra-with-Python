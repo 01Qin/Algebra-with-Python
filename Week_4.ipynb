{
  "nbformat": 4,
  "nbformat_minor": 0,
  "metadata": {
    "colab": {
      "provenance": [],
      "authorship_tag": "ABX9TyNrCueiO1XYi4kawFe0Mt/5"
    },
    "kernelspec": {
      "name": "python3",
      "display_name": "Python 3"
    },
    "language_info": {
      "name": "python"
    }
  },
  "cells": [
    {
      "cell_type": "markdown",
      "source": [
        "# Functions"
      ],
      "metadata": {
        "id": "fwtql88tzO-I"
      }
    },
    {
      "cell_type": "markdown",
      "source": [
        "Functions and a table of (x,y) values"
      ],
      "metadata": {
        "id": "WUH7-EQPzYqw"
      }
    },
    {
      "cell_type": "code",
      "source": [
        "x = 5\n",
        "y = 4 * x + 3\n",
        "\n",
        "print(x, \",\", y)\n",
        "print(\"x \\t y\")\n",
        "\n",
        "for x in range(11):\n",
        "  y = 4 * x + 3\n",
        "  print(x, \"\\t\", y)"
      ],
      "metadata": {
        "id": "VhvPDsztzf_l"
      },
      "execution_count": null,
      "outputs": []
    },
    {
      "cell_type": "markdown",
      "source": [
        "Defining a Python function"
      ],
      "metadata": {
        "id": "U6UxNlGD1C06"
      }
    },
    {
      "cell_type": "code",
      "source": [
        "def f(x):\n",
        "  y = 4*x + 3\n",
        "  return y\n",
        "\n",
        "print(5, \",\", f(5))\n",
        "\n",
        "for x in range(11):\n",
        "  print(x, \"\\t\", f(x))"
      ],
      "metadata": {
        "id": "0wwK2eTa1K4n"
      },
      "execution_count": null,
      "outputs": []
    },
    {
      "cell_type": "markdown",
      "source": [
        "Basic blank graph"
      ],
      "metadata": {
        "id": "AYb7wwmm7iPA"
      }
    },
    {
      "cell_type": "code",
      "source": [
        "import matplotlib.pyplot as plt\n",
        "\n",
        "fig, ax = plt.subplots()\n",
        "plt.show()"
      ],
      "metadata": {
        "id": "zu45uj4O7lmY"
      },
      "execution_count": null,
      "outputs": []
    },
    {
      "cell_type": "markdown",
      "source": [
        "Define dimensions of graph"
      ],
      "metadata": {
        "id": "aNtDebB97xTC"
      }
    },
    {
      "cell_type": "code",
      "source": [
        "import matplotlib.pyplot as plt\n",
        "\n",
        "fig, ax = plt.subplots()\n",
        "\n",
        "# dimensions\n",
        "plt.axis([-10, 10, -10, 10])\n",
        "plt.show()"
      ],
      "metadata": {
        "id": "DM8FwdYT70w5"
      },
      "execution_count": null,
      "outputs": []
    },
    {
      "cell_type": "markdown",
      "source": [
        "A better way to set dimensions"
      ],
      "metadata": {
        "id": "xV65BBDOYb5Y"
      }
    },
    {
      "cell_type": "code",
      "source": [
        "import matplotlib.pyplot as plt\n",
        "xmin = -10\n",
        "xmax = 0\n",
        "ymin = -10\n",
        "ymax = 20\n",
        "\n",
        "fig, ax = plt.subplots()\n",
        "plt.axis([xmin, xmax, ymin, ymax])\n",
        "plt.show()"
      ],
      "metadata": {
        "id": "8nXwdfCzYf7o"
      },
      "execution_count": null,
      "outputs": []
    },
    {
      "cell_type": "markdown",
      "source": [
        "Display axis lines"
      ],
      "metadata": {
        "id": "6vNuvupXY8ZZ"
      }
    },
    {
      "cell_type": "code",
      "source": [
        "import matplotlib.pyplot as plt\n",
        "xmin = -10\n",
        "xmax = 10\n",
        "ymin = -10\n",
        "ymax = 20\n",
        "\n",
        "fig, ax = plt.subplots()\n",
        "plt.axis([xmin, xmax, ymin, ymax])\n",
        "plt.plot([xmin, xmax], [0, 0], 'b')\n",
        "plt.plot([0, 0], [ymin, ymax], 'r')\n",
        "plt.show()\n"
      ],
      "metadata": {
        "id": "LpGk9mcdY_UT"
      },
      "execution_count": null,
      "outputs": []
    },
    {
      "cell_type": "markdown",
      "source": [
        "Plot one point"
      ],
      "metadata": {
        "id": "78my_5AKkvsN"
      }
    },
    {
      "cell_type": "code",
      "source": [
        "import matplotlib.pyplot as plt\n",
        "xmin = -10\n",
        "xmax = 10\n",
        "ymin = -10\n",
        "ymax = 20\n",
        "\n",
        "fig, ax = plt.subplots()\n",
        "plt.axis([xmin, xmax, ymin, ymax])\n",
        "plt.plot([xmin, xmax], [0, 0], 'b')\n",
        "plt.plot([0, 0], [ymin, ymax], 'r')\n",
        "\n",
        "plt.plot([5], [4], 'bo')\n",
        "plt.show()\n"
      ],
      "metadata": {
        "id": "gqpcVRSQkxqK"
      },
      "execution_count": null,
      "outputs": []
    },
    {
      "cell_type": "markdown",
      "source": [
        "Plot several point as a function"
      ],
      "metadata": {
        "id": "Fufjxmk5lIOW"
      }
    },
    {
      "cell_type": "code",
      "source": [
        "import matplotlib.pyplot as plt\n",
        "xmin = -10\n",
        "xmax = 10\n",
        "ymin = -10\n",
        "ymax = 10\n",
        "\n",
        "fig, ax = plt.subplots()\n",
        "plt.axis([xmin, xmax, ymin, ymax])\n",
        "plt.plot([xmin, xmax], [0, 0], 'b')\n",
        "plt.plot([0, 0], [ymin, ymax], 'r')\n",
        "\n",
        "for x in range(10):\n",
        "    y = 0.5*x + 1\n",
        "    plt.plot([x], [y], 'bo')\n",
        "\n",
        "plt.show()\n",
        "\n",
        "#"
      ],
      "metadata": {
        "id": "4B9cRXphlL_7"
      },
      "execution_count": null,
      "outputs": []
    },
    {
      "cell_type": "markdown",
      "source": [
        "Graph and table of (x,y) values"
      ],
      "metadata": {
        "id": "laZqLK6lltNr"
      }
    },
    {
      "cell_type": "code",
      "source": [
        "import matplotlib.pyplot as plt\n",
        "xmin = -10\n",
        "xmax = 10\n",
        "ymin = -10\n",
        "ymax = 10\n",
        "\n",
        "fig, ax = plt.subplots()\n",
        "plt.axis([xmin, xmax, ymin, ymax])\n",
        "plt.plot([xmin, xmax], [0, 0], 'b')\n",
        "plt.plot([0, 0], [ymin, ymax], 'r')\n",
        "\n",
        "print(\"x \\t y\")\n",
        "for x in range(xmin, xmax+1):\n",
        "    y = 0.5*x + 1\n",
        "    plt.plot([x], [y], 'bo')\n",
        "    print(x, \"\\t\", y)\n",
        "\n",
        "plt.show()\n",
        "\n",
        "#"
      ],
      "metadata": {
        "id": "VeR3YiEvl0oD"
      },
      "execution_count": null,
      "outputs": []
    }
  ]
}