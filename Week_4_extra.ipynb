{
  "nbformat": 4,
  "nbformat_minor": 0,
  "metadata": {
    "colab": {
      "provenance": [],
      "authorship_tag": "ABX9TyPdr/rGeS7pPBC+5719F8By"
    },
    "kernelspec": {
      "name": "python3",
      "display_name": "Python 3"
    },
    "language_info": {
      "name": "python"
    }
  },
  "cells": [
    {
      "cell_type": "markdown",
      "source": [
        "Loop through function inputs"
      ],
      "metadata": {
        "id": "VUtC7gpm2uFg"
      }
    },
    {
      "cell_type": "code",
      "execution_count": null,
      "metadata": {
        "id": "ogOL7BgU2njW"
      },
      "outputs": [],
      "source": [
        "import matplotlib.pyplot as plt\n",
        "\n",
        "xmin = -10\n",
        "xmax = 10\n",
        "ymin = -10\n",
        "ymax = 10\n",
        "\n",
        "fig, ax = plt.subplots()\n",
        "plt.axis([xmin, xmax, ymin, ymax])\n",
        "plt.plot([xmin, xmax], [0, 0], 'b')\n",
        "plt.plot([0, 0], [ymin, ymax], 'y')\n",
        "\n",
        "for x in range(10):\n",
        "  y = 0.5*x + 1\n",
        "  plt.plot([x], [y], 'go')\n",
        "\n",
        "plt.show()\n",
        "\n"
      ]
    }
  ]
}