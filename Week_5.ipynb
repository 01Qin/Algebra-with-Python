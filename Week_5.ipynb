{
  "nbformat": 4,
  "nbformat_minor": 0,
  "metadata": {
    "colab": {
      "provenance": [],
      "authorship_tag": "ABX9TyOGt+rQXptldGQ2GDdRpDiG"
    },
    "kernelspec": {
      "name": "python3",
      "display_name": "Python 3"
    },
    "language_info": {
      "name": "python"
    }
  },
  "cells": [
    {
      "cell_type": "markdown",
      "source": [
        "# Code for slope intercept"
      ],
      "metadata": {
        "id": "gtrAzCKHox-s"
      }
    },
    {
      "cell_type": "code",
      "source": [
        "import matplotlib.pyplot as plt"
      ],
      "metadata": {
        "id": "yMx_Bo__5Is3"
      },
      "execution_count": 2,
      "outputs": []
    },
    {
      "cell_type": "code",
      "execution_count": 1,
      "metadata": {
        "colab": {
          "base_uri": "https://localhost:8080/"
        },
        "id": "Qik9Ty7jotpz",
        "outputId": "163baf3c-db2b-435d-e956-e5d476598827"
      },
      "outputs": [
        {
          "output_type": "stream",
          "name": "stdout",
          "text": [
            "3.0\n",
            "4.0\n"
          ]
        }
      ],
      "source": [
        "x1 = 1\n",
        "y1 = 7\n",
        "x2 = 2\n",
        "y2 = 10\n",
        "\n",
        "slope = (y2 - y1) / (x2 - x1)\n",
        "print(slope)\n",
        "\n",
        "intercept = y1 - (slope * x1)\n",
        "print(intercept)"
      ]
    },
    {
      "cell_type": "markdown",
      "source": [
        "develop equations"
      ],
      "metadata": {
        "id": "5_39pRnd33Cs"
      }
    },
    {
      "cell_type": "code",
      "source": [
        "x1 = 632\n",
        "y1 = 84\n",
        "x2 = 1000\n",
        "y2 = 8\n",
        "\n",
        "m = (y2 - y1) / (x2 - x1)\n",
        "\n",
        "\n",
        "# b is the y intercept\n",
        "b = y1 - (m * x1)\n",
        "print(\"y = \", m, \"x + \", b)"
      ],
      "metadata": {
        "colab": {
          "base_uri": "https://localhost:8080/"
        },
        "id": "WuZz5v0z32Gn",
        "outputId": "0eca542c-9ccd-4ac6-a84c-b3ad15d7c7f9"
      },
      "execution_count": 1,
      "outputs": [
        {
          "output_type": "stream",
          "name": "stdout",
          "text": [
            "y =  -0.20652173913043478 x +  214.52173913043478\n"
          ]
        }
      ]
    },
    {
      "cell_type": "markdown",
      "source": [
        "Display the graph"
      ],
      "metadata": {
        "id": "DagTvECN4fok"
      }
    },
    {
      "cell_type": "code",
      "source": [
        "\n",
        "x1 = 2\n",
        "y1 = 3\n",
        "x2 = 5\n",
        "y2 = 9\n",
        "\n",
        "m = (y2 - y1) / (x2 - x1)\n",
        "b = y1 - (m * x1)\n",
        "print(\"y = \", m, \"x + \", \"(\",b,\")\")\n",
        "\n",
        "# for the graph\n",
        "xmin = -10\n",
        "xmax = 10\n",
        "ymin = -10\n",
        "ymax = 10\n",
        "\n",
        "# for the line on the graph\n",
        "y3 = m * xmin + b\n",
        "y4 = m * xmax + b\n",
        "\n",
        "fig, ax = plt.subplots()\n",
        "plt.axis([xmin, xmax, ymin, ymax])\n",
        "plt.plot([xmin, xmax], [0, 0], 'k-')\n",
        "plt.plot([0, 0], [ymin, ymax], 'k-')\n",
        "\n",
        "# plot the linear function as a red line\n",
        "plt.plot([xmin, xmax], [y3, y4], 'r')\n",
        "plt.show()\n"
      ],
      "metadata": {
        "colab": {
          "base_uri": "https://localhost:8080/",
          "height": 452
        },
        "id": "DFzd75kV4jPa",
        "outputId": "f930ccee-cf3e-448f-fe97-45b0fd93949e"
      },
      "execution_count": 7,
      "outputs": [
        {
          "output_type": "stream",
          "name": "stdout",
          "text": [
            "y =  2.0 x +  ( -1.0 )\n"
          ]
        },
        {
          "output_type": "display_data",
          "data": {
            "text/plain": [
              "<Figure size 640x480 with 1 Axes>"
            ],
            "image/png": "[encoded data removed]"
          },
          "metadata": {}
        }
      ]
    }
  ]
}