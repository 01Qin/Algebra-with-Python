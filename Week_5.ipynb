{
  "nbformat": 4,
  "nbformat_minor": 0,
  "metadata": {
    "colab": {
      "provenance": [],
      "authorship_tag": "ABX9TyM7KHNrCLaEdfHQ2T2FV4Bp",
      "include_colab_link": true
    },
    "kernelspec": {
      "name": "python3",
      "display_name": "Python 3"
    },
    "language_info": {
      "name": "python"
    }
  },
  "cells": [
    {
      "cell_type": "markdown",
      "metadata": {
        "id": "view-in-github",
        "colab_type": "text"
      },
      "source": [
        "<a href=\"https://colab.research.google.com/github/01Qin/AlgebraWithPython/blob/main/Week_5.ipynb\" target=\"_parent\"><img src=\"https://colab.research.google.com/assets/colab-badge.svg\" alt=\"Open In Colab\"/></a>"
      ]
    },
    {
      "cell_type": "markdown",
      "source": [
        "# Code for slope intercept"
      ],
      "metadata": {
        "id": "gtrAzCKHox-s"
      }
    },
    {
      "cell_type": "code",
      "source": [
        "import matplotlib.pyplot as plt"
      ],
      "metadata": {
        "id": "yMx_Bo__5Is3"
      },
      "execution_count": null,
      "outputs": []
    },
    {
      "cell_type": "code",
      "execution_count": null,
      "metadata": {
        "id": "Qik9Ty7jotpz"
      },
      "outputs": [],
      "source": [
        "x1 = 1\n",
        "y1 = 7\n",
        "x2 = 2\n",
        "y2 = 10\n",
        "\n",
        "slope = (y2 - y1) / (x2 - x1)\n",
        "print(slope)\n",
        "\n",
        "intercept = y1 - (slope * x1)\n",
        "print(intercept)"
      ]
    },
    {
      "cell_type": "markdown",
      "source": [
        "Develop equations"
      ],
      "metadata": {
        "id": "5_39pRnd33Cs"
      }
    },
    {
      "cell_type": "code",
      "source": [
        "x1 = 1\n",
        "y1 = 7\n",
        "x2 = 2\n",
        "y2 = 10\n",
        "\n",
        "m = (y2 - y1) / (x2 - x1)\n",
        "\n",
        "\n",
        "# b is the y intercept\n",
        "b = y1 - (m * x1)\n",
        "print(\"y = \", m, \"x + \", b)"
      ],
      "metadata": {
        "id": "WuZz5v0z32Gn"
      },
      "execution_count": null,
      "outputs": []
    },
    {
      "cell_type": "markdown",
      "source": [
        "Display the graph"
      ],
      "metadata": {
        "id": "DagTvECN4fok"
      }
    },
    {
      "cell_type": "code",
      "source": [
        "\n",
        "x1 = 2\n",
        "y1 = 3\n",
        "x2 = 5\n",
        "y2 = 9\n",
        "\n",
        "m = (y2 - y1) / (x2 - x1)\n",
        "b = y1 - (m * x1)\n",
        "print(\"y = \", m, \"x + \", \"(\",b,\")\")\n",
        "\n",
        "# for the graph\n",
        "xmin = -10\n",
        "xmax = 10\n",
        "ymin = -10\n",
        "ymax = 10\n",
        "\n",
        "# for the line on the graph\n",
        "y3 = m * xmin + b\n",
        "y4 = m * xmax + b\n",
        "\n",
        "fig, ax = plt.subplots()\n",
        "plt.axis([xmin, xmax, ymin, ymax])\n",
        "plt.plot([xmin, xmax], [0, 0], 'k-')\n",
        "plt.plot([0, 0], [ymin, ymax], 'k-')\n",
        "\n",
        "# plot the linear function as a red line\n",
        "plt.plot([xmin, xmax], [y3, y4], 'r')\n",
        "plt.show()\n"
      ],
      "metadata": {
        "id": "DFzd75kV4jPa"
      },
      "execution_count": null,
      "outputs": []
    }
  ]
}