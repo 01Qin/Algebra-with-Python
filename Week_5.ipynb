{
  "nbformat": 4,
  "nbformat_minor": 0,
  "metadata": {
    "colab": {
      "provenance": [],
      "authorship_tag": "ABX9TyO+ZVdQN1dxMV33x8Q4OfCD"
    },
    "kernelspec": {
      "name": "python3",
      "display_name": "Python 3"
    },
    "language_info": {
      "name": "python"
    }
  },
  "cells": [
    {
      "cell_type": "markdown",
      "source": [
        "# Code for slope intercept"
      ],
      "metadata": {
        "id": "gtrAzCKHox-s"
      }
    },
    {
      "cell_type": "code",
      "execution_count": 1,
      "metadata": {
        "colab": {
          "base_uri": "https://localhost:8080/"
        },
        "id": "Qik9Ty7jotpz",
        "outputId": "163baf3c-db2b-435d-e956-e5d476598827"
      },
      "outputs": [
        {
          "output_type": "stream",
          "name": "stdout",
          "text": [
            "3.0\n",
            "4.0\n"
          ]
        }
      ],
      "source": [
        "x1 = 1\n",
        "y1 = 7\n",
        "x2 = 2\n",
        "y2 = 10\n",
        "\n",
        "slope = (y2 - y1) / (x2 - x1)\n",
        "print(slope)\n",
        "\n",
        "intercept = y1 - (slope * x1)\n",
        "print(intercept)"
      ]
    }
  ]
}