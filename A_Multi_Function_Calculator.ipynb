{
  "nbformat": 4,
  "nbformat_minor": 0,
  "metadata": {
    "colab": {
      "provenance": [],
      "authorship_tag": "ABX9TyMA+XfeTnF+wj8gVmti+uJJ"
    },
    "kernelspec": {
      "name": "python3",
      "display_name": "Python 3"
    },
    "language_info": {
      "name": "python"
    }
  },
  "cells": [
    {
      "cell_type": "markdown",
      "source": [
        "# Acquire the testing library"
      ],
      "metadata": {
        "id": "oEILcUtYNRTj"
      }
    },
    {
      "cell_type": "code",
      "source": [
        "# You may need to run this cell at the beginning of each new session\n",
        "\n",
        "!pip install requests\n",
        "\n",
        "# This will just take a few seconds\n",
        "\n",
        "import requests\n",
        "\n",
        "# Get the library from GitHub\n",
        "url = 'https://raw.githubusercontent.com/freeCodeCamp/cdn/main/build/math-cert-tests/math-code-test-a.py'\n",
        "r = requests.get(url)\n",
        "\n",
        "# Save the library in a local working directory\n",
        "with open('math_code_test_a.py', 'w') as f:\n",
        "    f.write(r.text)\n",
        "\n",
        "# Now you can import the library\n",
        "import math_code_test_a as test\n",
        "\n",
        "# This will tell you if the code works\n",
        "test.step19()"
      ],
      "metadata": {
        "id": "V88D7Zrei2ym",
        "colab": {
          "base_uri": "https://localhost:8080/"
        },
        "outputId": "355f0ff7-7d60-4eb8-a6a0-e2177d804c93"
      },
      "execution_count": 2,
      "outputs": [
        {
          "output_type": "stream",
          "name": "stdout",
          "text": [
            "Requirement already satisfied: requests in /usr/local/lib/python3.11/dist-packages (2.32.3)\n",
            "Requirement already satisfied: charset-normalizer<4,>=2 in /usr/local/lib/python3.11/dist-packages (from requests) (3.4.2)\n",
            "Requirement already satisfied: idna<4,>=2.5 in /usr/local/lib/python3.11/dist-packages (from requests) (3.10)\n",
            "Requirement already satisfied: urllib3<3,>=1.21.1 in /usr/local/lib/python3.11/dist-packages (from requests) (2.4.0)\n",
            "Requirement already satisfied: certifi>=2017.4.17 in /usr/local/lib/python3.11/dist-packages (from requests) (2025.7.9)\n",
            "\n",
            " Test passed. You can go on to the next step.\n"
          ]
        }
      ]
    },
    {
      "cell_type": "markdown",
      "source": [
        "# Add"
      ],
      "metadata": {
        "id": "pkI9wWaJNkId"
      }
    },
    {
      "cell_type": "code",
      "source": [
        "\n",
        "a = 1\n",
        "b = 2\n",
        "\n",
        "print(a + b)\n",
        "\n",
        "import math_code_test_a as test\n",
        "test.step01(In[-1].split('# Only change code above this line')[0])"
      ],
      "metadata": {
        "colab": {
          "base_uri": "https://localhost:8080/"
        },
        "id": "fbJGAswFNmyA",
        "outputId": "64f9d83f-9773-4ee0-b29e-fb8340b8a885"
      },
      "execution_count": null,
      "outputs": [
        {
          "output_type": "stream",
          "name": "stdout",
          "text": [
            "3\n",
            " \n",
            "Code test passed\n",
            "Go on to the next step\n"
          ]
        }
      ]
    },
    {
      "cell_type": "markdown",
      "source": [
        "# Subtract"
      ],
      "metadata": {
        "id": "3smb8Y8CsH3n"
      }
    },
    {
      "cell_type": "code",
      "source": [
        "c = 7\n",
        "d = 3\n",
        "print(c - d)\n",
        "\n",
        "import math_code_test_a as test\n",
        "test.step02(In[-1].split('# Only change code above this line')[0])"
      ],
      "metadata": {
        "colab": {
          "base_uri": "https://localhost:8080/"
        },
        "id": "Grtqby_osKR0",
        "outputId": "a9132d47-c355-4a28-9dc4-4bcf363d6719"
      },
      "execution_count": null,
      "outputs": [
        {
          "output_type": "stream",
          "name": "stdout",
          "text": [
            "4\n",
            " \n",
            "Code test passed\n",
            "Go on to the next step\n"
          ]
        }
      ]
    },
    {
      "cell_type": "markdown",
      "source": [
        "# Multiply"
      ],
      "metadata": {
        "id": "mLdYOlxWsk5W"
      }
    },
    {
      "cell_type": "code",
      "source": [
        "e = 2\n",
        "f = 4\n",
        "\n",
        "print(e * f)\n",
        "\n",
        "import math_code_test_a as test\n",
        "test.step03(In[-1].split('# Only change code above this line')[0])"
      ],
      "metadata": {
        "colab": {
          "base_uri": "https://localhost:8080/"
        },
        "id": "PzLV78Q9sm-I",
        "outputId": "278ee138-ec9c-4aa7-8f31-f616aebb29f1"
      },
      "execution_count": null,
      "outputs": [
        {
          "output_type": "stream",
          "name": "stdout",
          "text": [
            "8\n",
            " \n",
            "Code test passed\n",
            "Go on to the next step\n"
          ]
        }
      ]
    },
    {
      "cell_type": "code",
      "source": [],
      "metadata": {
        "id": "sDCQXzifsu6e"
      },
      "execution_count": null,
      "outputs": []
    },
    {
      "cell_type": "markdown",
      "source": [
        "# Divide"
      ],
      "metadata": {
        "id": "Qz3ZDX7fs5Pr"
      }
    },
    {
      "cell_type": "code",
      "source": [
        "g = 8\n",
        "h = 4\n",
        "print(g / h)\n",
        "\n",
        "import math_code_test_a as test\n",
        "test.step04(In[-1].split('# Only change code above this line')[0])"
      ],
      "metadata": {
        "colab": {
          "base_uri": "https://localhost:8080/"
        },
        "id": "HNCV2lpos8DZ",
        "outputId": "0c238f26-bd6f-411a-eae3-9b4ccb08619e"
      },
      "execution_count": null,
      "outputs": [
        {
          "output_type": "stream",
          "name": "stdout",
          "text": [
            "2.0\n",
            " \n",
            "Code test passed\n",
            "Go on to the next step\n"
          ]
        }
      ]
    },
    {
      "cell_type": "markdown",
      "source": [
        "# Cast Input"
      ],
      "metadata": {
        "id": "k1j40dSrtT74"
      }
    },
    {
      "cell_type": "code",
      "source": [
        "strA = input('Enter a positive integer: ')\n",
        "intA = int(strA)\n",
        "\n",
        "strB = input('Enter another positive integer: ')\n",
        "intB = int(strB)\n",
        "\n",
        "print(intA + intB)\n",
        "\n",
        "import math_code_test_a as test\n",
        "test.step05(In[-1].split('# Only change code above this line')[0])"
      ],
      "metadata": {
        "colab": {
          "base_uri": "https://localhost:8080/"
        },
        "id": "IRil6icUtFaP",
        "outputId": "04959eb1-4eed-4fd4-95d2-c4c498e65609"
      },
      "execution_count": null,
      "outputs": [
        {
          "output_type": "stream",
          "name": "stdout",
          "text": [
            "Enter a positive integer: 6\n",
            "Enter another positive integer: 9\n",
            "15\n",
            " \n",
            "Code test passed\n",
            "Go on to the next step\n"
          ]
        }
      ]
    },
    {
      "cell_type": "markdown",
      "source": [
        "# Input and cast on the same line"
      ],
      "metadata": {
        "id": "DYkKTvP9abEP"
      }
    },
    {
      "cell_type": "code",
      "source": [
        "intA = int(input('Enter an integer: '))\n",
        "intB = int(input('Enter an integer: '))\n",
        "\n",
        "print(intA + intB)\n",
        "\n",
        "import math_code_test_a as test\n",
        "test.step06(In[-1].split('# Only change code above this line')[0])"
      ],
      "metadata": {
        "id": "PCWM9gp4tomM",
        "colab": {
          "base_uri": "https://localhost:8080/"
        },
        "outputId": "88ed455f-4e36-4ec1-c3ad-04af72fde4dc"
      },
      "execution_count": null,
      "outputs": [
        {
          "output_type": "stream",
          "name": "stdout",
          "text": [
            "Enter an integer: 9\n",
            "Enter an integer: 7\n",
            "16\n",
            " \n",
            "Code test passed\n",
            "Go on to the next step\n"
          ]
        }
      ]
    },
    {
      "cell_type": "markdown",
      "source": [
        "# Float numbers"
      ],
      "metadata": {
        "id": "f5Mht72SbXM4"
      }
    },
    {
      "cell_type": "code",
      "source": [
        "a = float(input('Enter a number: '))\n",
        "b = float(input('Enter a number: '))\n",
        "\n",
        "print(a / b)\n",
        "\n",
        "import math_code_test_a as test\n",
        "test.step07(In[-1].split('# Only change code above this line')[0])"
      ],
      "metadata": {
        "colab": {
          "base_uri": "https://localhost:8080/"
        },
        "id": "pu_3oHkrai3L",
        "outputId": "0f4dcc73-2b7f-406d-8e75-58732a391c9a"
      },
      "execution_count": null,
      "outputs": [
        {
          "output_type": "stream",
          "name": "stdout",
          "text": [
            "Enter a number: 0.56\n",
            "Enter a number: 0.43\n",
            "1.302325581395349\n",
            " \n",
            "Code test passed\n",
            "Go on to the next step\n"
          ]
        }
      ]
    },
    {
      "cell_type": "markdown",
      "source": [
        "# Order of Operations"
      ],
      "metadata": {
        "id": "rUgcA2EVb9Jt"
      }
    },
    {
      "cell_type": "code",
      "source": [
        "actual_answer = (1+4*2-14/2)**3\n",
        "\n",
        "your_answer = 8\n",
        "\n",
        "print('Actual answer is ', actual_answer)\n",
        "print('Your answer is ', your_answer)\n",
        "\n",
        "\n",
        "import math_code_test_a as test\n",
        "test.step08(your_answer)"
      ],
      "metadata": {
        "colab": {
          "base_uri": "https://localhost:8080/"
        },
        "id": "kWif2yN2cAl1",
        "outputId": "91755dac-41a6-4126-f42d-2848597c00a4"
      },
      "execution_count": null,
      "outputs": [
        {
          "output_type": "stream",
          "name": "stdout",
          "text": [
            "Actual answer is  8.0\n",
            "Your answer is  8\n",
            " \n",
            "Code test passed\n",
            "Go on to the next step\n"
          ]
        }
      ]
    },
    {
      "cell_type": "markdown",
      "source": [
        "# Remainder and Modulus"
      ],
      "metadata": {
        "id": "B7wnzWUIcdrE"
      }
    },
    {
      "cell_type": "code",
      "source": [
        "a = 14\n",
        "b = 6\n",
        "\n",
        "\n",
        "print(a%b)\n",
        "\n",
        "\n",
        "import math_code_test_a as test\n",
        "test.step09(In[-1].split('# Only change code above this line')[0])"
      ],
      "metadata": {
        "colab": {
          "base_uri": "https://localhost:8080/"
        },
        "id": "bziMFX3uchmT",
        "outputId": "ba731452-6b64-4e5b-c64c-5e6f6c6e5619"
      },
      "execution_count": null,
      "outputs": [
        {
          "output_type": "stream",
          "name": "stdout",
          "text": [
            "2\n",
            " \n",
            "Code test passed\n",
            "Go on to the next step\n"
          ]
        }
      ]
    },
    {
      "cell_type": "markdown",
      "source": [
        "# Modulus and Factors"
      ],
      "metadata": {
        "id": "bBiZdJhXc7vW"
      }
    },
    {
      "cell_type": "code",
      "source": [
        "number = int(input('Enter an integer: '))\n",
        "test_factor = int(input('Enter an integer to see if it’s a factor: '))\n",
        "\n",
        "if number % test_factor == 0:\n",
        "    print(test_factor, 'is a factor of', number)\n",
        "    print('true')\n",
        "else:\n",
        "    print('false')\n",
        "\n",
        "\n",
        "# Only change code above this line\n",
        "import math_code_test_a as test\n",
        "test.step10(In[-1].split('# Only change code above this line')[0])"
      ],
      "metadata": {
        "colab": {
          "base_uri": "https://localhost:8080/"
        },
        "id": "tPEbbBN0dHml",
        "outputId": "88a21a7e-9f5f-4020-c6e8-5aadf0716dfd"
      },
      "execution_count": null,
      "outputs": [
        {
          "output_type": "stream",
          "name": "stdout",
          "text": [
            "Enter an integer: 8\n",
            "Enter an integer to see if it’s a factor: 5\n",
            "false\n",
            " \n",
            "Code test passed\n",
            "Go on to the next step\n"
          ]
        }
      ]
    },
    {
      "cell_type": "markdown",
      "source": [
        "# Finding Factors"
      ],
      "metadata": {
        "id": "EQOqhRrfdV1j"
      }
    },
    {
      "cell_type": "code",
      "source": [
        "number = int(input('Enter an integer: '))\n",
        "\n",
        "\n",
        "for test_factor in range(1, number+1):\n",
        "    if number % test_factor == 0:\n",
        "        print(test_factor)\n",
        "\n",
        "\n",
        "\n",
        "import math_code_test_a as test\n",
        "test.step11(In[-1].split('# Only change code above this line')[0])"
      ],
      "metadata": {
        "colab": {
          "base_uri": "https://localhost:8080/"
        },
        "id": "nss5l1q_dXzP",
        "outputId": "ba8cf2d3-cc2c-41c1-d98d-d7252ad05414"
      },
      "execution_count": null,
      "outputs": [
        {
          "output_type": "stream",
          "name": "stdout",
          "text": [
            "Enter an integer: 7\n",
            "1\n",
            "7\n",
            " \n",
            "Code test passed\n",
            "Go on to the next step\n"
          ]
        }
      ]
    },
    {
      "cell_type": "markdown",
      "source": [
        "# Prime Numbers"
      ],
      "metadata": {
        "id": "Bq43iyPRSZs2"
      }
    },
    {
      "cell_type": "markdown",
      "source": [
        "A prime number is a number whose only factors are 1 and itself. The number 5 is prime because its only factors are 1 and 5. Any number that is not a prime is a composite."
      ],
      "metadata": {
        "id": "Ykh6zlHKTA2G"
      }
    },
    {
      "cell_type": "code",
      "source": [
        "number = int(input('Enter a positive integer: '))\n",
        "prime_or_comp = \"prime\"\n",
        "\n",
        "for test_number in range(2, number):\n",
        "  # o determine if a number is composite, only need to find one factor (other than 1 and itself\n",
        "  if number % test_number == 0:\n",
        "      prime_or_comp = \"composite\"\n",
        "print(prime_or_comp)\n",
        "\n",
        "import math_code_test_a as test\n",
        "test.step12(In[-1].split('# Only change code above this line')[0])"
      ],
      "metadata": {
        "colab": {
          "base_uri": "https://localhost:8080/"
        },
        "id": "cUfF1usjSct-",
        "outputId": "24c6918f-824b-4e16-9e4a-d2c6bb8363f1"
      },
      "execution_count": 8,
      "outputs": [
        {
          "output_type": "stream",
          "name": "stdout",
          "text": [
            "Enter a positive integer: 7\n",
            "prime\n",
            " \n",
            "Code test passed\n",
            "Go on to the next step\n"
          ]
        }
      ]
    },
    {
      "cell_type": "markdown",
      "source": [
        "# Reciprocals"
      ],
      "metadata": {
        "id": "46DDO0-JVIg3"
      }
    },
    {
      "cell_type": "markdown",
      "source": [
        "A reciporcal is a number \"flipped\". The reciprocal of $\\frac{2}{3}$ is $\\frac{3}{2}$ and the reciprocal of 5 is $\\frac{1}{5}$ because whole numbers have denominator of 1."
      ],
      "metadata": {
        "id": "qmsxh2bvVUg8"
      }
    },
    {
      "cell_type": "code",
      "source": [
        "n = float(input('Enter a number: '))\n",
        "\n",
        "print(1/n)\n",
        "\n",
        "import math_code_test_a as test\n",
        "test.step13(In[-1].split('# Only change code above this line')[0])"
      ],
      "metadata": {
        "colab": {
          "base_uri": "https://localhost:8080/"
        },
        "id": "CAkQs_fAVMIX",
        "outputId": "4bed6802-9bf1-4a9f-d135-d1eccc00e92a"
      },
      "execution_count": 9,
      "outputs": [
        {
          "output_type": "stream",
          "name": "stdout",
          "text": [
            "Enter a number: 7\n",
            "0.14285714285714285\n",
            " \n",
            "Code test passed\n",
            "Go on to the next step\n"
          ]
        }
      ]
    },
    {
      "cell_type": "markdown",
      "source": [
        "# Splitting input"
      ],
      "metadata": {
        "id": "pKuBGjjC8b5-"
      }
    },
    {
      "cell_type": "code",
      "source": [
        "nums = input('Enter two numbers, separated by a comma: ')\n",
        "sp = nums.split(',')\n",
        "a = float(sp[0])\n",
        "b = float(sp[1])\n",
        "\n",
        "print(a / b)\n",
        "\n",
        "import math_code_test_a as test\n",
        "test.step14(In[-1].split('# Only change code above this line')[0])"
      ],
      "metadata": {
        "colab": {
          "base_uri": "https://localhost:8080/"
        },
        "id": "WGOCZcG98gcF",
        "outputId": "e8673cf2-d5f4-4d68-9f1a-09beae1a4579"
      },
      "execution_count": 4,
      "outputs": [
        {
          "output_type": "stream",
          "name": "stdout",
          "text": [
            "Enter two numbers, separated by a comma: 7,9\n",
            "0.7777777777777778\n",
            " \n",
            "Code test passed\n",
            "Go on to the next step\n"
          ]
        }
      ]
    },
    {
      "cell_type": "markdown",
      "source": [
        " # Square Numbers"
      ],
      "metadata": {
        "id": "i6Ck7Y_uY2xH"
      }
    },
    {
      "cell_type": "code",
      "source": [
        "n = float(input('Enter a number to square: '))\n",
        "print(n**2)\n",
        "\n",
        "import math_code_test_a as test\n",
        "test.step15(In[-1].split('# Only change code above this line')[0])"
      ],
      "metadata": {
        "colab": {
          "base_uri": "https://localhost:8080/"
        },
        "id": "MKlhf_cRY7Fe",
        "outputId": "25532fd7-259f-4727-ffa3-b505f5301922"
      },
      "execution_count": 3,
      "outputs": [
        {
          "output_type": "stream",
          "name": "stdout",
          "text": [
            "Enter a number to square: 3\n",
            "9.0\n",
            " \n",
            "Code test passed\n",
            "Go on to the next step\n"
          ]
        }
      ]
    },
    {
      "cell_type": "markdown",
      "source": [
        "# Square Root Function"
      ],
      "metadata": {
        "id": "PablBAtcZfxt"
      }
    },
    {
      "cell_type": "code",
      "source": [
        "import math\n",
        "n = float(input('Enter a number to find the square root: '))\n",
        "print(math.sqrt(n))\n",
        "\n",
        "import math_code_test_a as test\n",
        "test.step16(In[-1].split('# Only change code above this line')[0])"
      ],
      "metadata": {
        "colab": {
          "base_uri": "https://localhost:8080/"
        },
        "id": "YsyUljtfZi-l",
        "outputId": "a5eceb81-e982-4732-e437-1fc80f699c10"
      },
      "execution_count": 4,
      "outputs": [
        {
          "output_type": "stream",
          "name": "stdout",
          "text": [
            "Enter a number to find the square root: 4\n",
            "2.0\n",
            " \n",
            "Code test passed\n",
            "Go on to the next step\n"
          ]
        }
      ]
    },
    {
      "cell_type": "markdown",
      "source": [
        "# Floor Function"
      ],
      "metadata": {
        "id": "r4VqSpLTaE5b"
      }
    },
    {
      "cell_type": "markdown",
      "source": [
        "The floor() function drops any decimals and sometimes is called the integer part of a number."
      ],
      "metadata": {
        "id": "IZu5RjGAaJU8"
      }
    },
    {
      "cell_type": "code",
      "source": [
        "import math\n",
        "n = float(input('Enter a number with decimal places: '))\n",
        "print(math.floor(n))\n",
        "\n",
        "import math_code_test_a as test\n",
        "test.step17(In[-1].split('# Only change code above this line')[0])"
      ],
      "metadata": {
        "colab": {
          "base_uri": "https://localhost:8080/"
        },
        "id": "yoiIKoSTaSWt",
        "outputId": "81624f15-c343-446e-82cd-9d52738c0ef8"
      },
      "execution_count": 6,
      "outputs": [
        {
          "output_type": "stream",
          "name": "stdout",
          "text": [
            "Enter a number with decimal places: 9.65\n",
            "9\n",
            " \n",
            "Code test passed\n",
            "Go on to the next step\n"
          ]
        }
      ]
    },
    {
      "cell_type": "markdown",
      "source": [
        "# Finding Square Factors"
      ],
      "metadata": {
        "id": "8l0sXvpyayHH"
      }
    },
    {
      "cell_type": "code",
      "source": [
        "import math\n",
        "\n",
        "n = int(input('Enter an integer to find the greateset square factor: '))\n",
        "max_factor = 1\n",
        "upper_limit = math.floor(math.sqrt(n)) + 1\n",
        "\n",
        "for maybe_factor in range(1, upper_limit):\n",
        "    if n % (maybe_factor**2) == 0:\n",
        "        max_factor = maybe_factor\n",
        "\n",
        "print(max_factor ** 2)\n",
        "\n",
        "import math_code_test_a as test\n",
        "test.step18(In[-1].split('# Only change code above this line')[0])"
      ],
      "metadata": {
        "colab": {
          "base_uri": "https://localhost:8080/"
        },
        "id": "y3UBingRa2Md",
        "outputId": "39f60d03-ee11-4c02-ac13-1b23cf7ee1a8"
      },
      "execution_count": 8,
      "outputs": [
        {
          "output_type": "stream",
          "name": "stdout",
          "text": [
            "Enter an integer to find the greateset square factor: 16\n",
            "16\n",
            " \n",
            "Code test passed\n",
            "Go on to the next step\n"
          ]
        }
      ]
    },
    {
      "cell_type": "markdown",
      "source": [
        "# Dividing out Factors"
      ],
      "metadata": {
        "id": "-MWJ5hu0tqHn"
      }
    },
    {
      "cell_type": "code",
      "source": [
        "import math\n",
        "\n",
        "n = int(input('Enter an integer to factor: '))\n",
        "upper_limit = math.floor(math.sqrt(n)) + 1\n",
        "square_root = 1\n",
        "max_factor = 1\n",
        "other_factor = 1\n",
        "\n",
        "for maybe_factor in range(1, upper_limit):\n",
        "  if n % (maybe_factor ** 2) == 0:\n",
        "    max_factor = maybe_factor ** 2\n",
        "\n",
        "other_factor = n /max_factor\n",
        "\n",
        "print(\"\", n, \" = \", max_factor, \" * \", other_factor)\n",
        "\n",
        "import math_code_test_a as test\n",
        "test.step19()"
      ],
      "metadata": {
        "colab": {
          "base_uri": "https://localhost:8080/"
        },
        "id": "IwFfjbq6txXQ",
        "outputId": "4c05dee0-27b8-4588-c0ce-de5049e4d706"
      },
      "execution_count": 3,
      "outputs": [
        {
          "output_type": "stream",
          "name": "stdout",
          "text": [
            "Enter an integer to factor: 66\n",
            " 66  =  1  *  66.0\n",
            "\n",
            " Test passed. You can go on to the next step.\n"
          ]
        }
      ]
    },
    {
      "cell_type": "markdown",
      "source": [
        "# Factoring Square Roots"
      ],
      "metadata": {
        "id": "G-R6AqVkuua0"
      }
    },
    {
      "cell_type": "code",
      "source": [
        "import math\n",
        "import sympy\n",
        "from sympy import symbols\n",
        "\n",
        "n = int(input('Without the radical, enter a square root to factor: '))\n",
        "upper_limit = math.floor(math.sqrt(n)) + 1\n",
        "max_factor = 1\n",
        "other_factor = 1\n",
        "square_root = 1\n",
        "\n",
        "for maybe_factor in range(1, upper_limit):\n",
        "  if n % (maybe_factor ** 2):\n",
        "    max_factor = maybe_factor ** 2\n",
        "\n",
        "other_factor = n / max_factor\n",
        "\n",
        "square_root = int(math.sqrt(max_factor))\n",
        "other_factor = int(other_factor)\n",
        "output = square_root * sympy.sqrt(other_factor)\n",
        "\n",
        "import math_code_test_a as test\n",
        "test.step20()\n",
        "output\n"
      ],
      "metadata": {
        "colab": {
          "base_uri": "https://localhost:8080/",
          "height": 108
        },
        "id": "O1DL3m9pu3Qs",
        "outputId": "ec26ca48-c83b-4631-f90a-100b8f423fe5"
      },
      "execution_count": 6,
      "outputs": [
        {
          "output_type": "stream",
          "name": "stdout",
          "text": [
            "Without the radical, enter a square root to factor: 8\n",
            "\n",
            " Test passed. This is this your factored square root:\n",
            "\n"
          ]
        },
        {
          "output_type": "execute_result",
          "data": {
            "text/plain": [
              "2*sqrt(2)"
            ],
            "text/latex": "$\\displaystyle 2 \\sqrt{2}$"
          },
          "metadata": {},
          "execution_count": 6
        }
      ]
    }
  ]
}