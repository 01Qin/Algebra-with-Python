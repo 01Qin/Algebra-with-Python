{
  "nbformat": 4,
  "nbformat_minor": 0,
  "metadata": {
    "colab": {
      "provenance": [],
      "authorship_tag": "ABX9TyPms9YR6f/Hs54f3ALqZ8fF"
    },
    "kernelspec": {
      "name": "python3",
      "display_name": "Python 3"
    },
    "language_info": {
      "name": "python"
    }
  },
  "cells": [
    {
      "cell_type": "code",
      "execution_count": 8,
      "metadata": {
        "colab": {
          "base_uri": "https://localhost:8080/"
        },
        "id": "eWuhRbIsx9W5",
        "outputId": "cdeac202-cb6e-492f-fe6f-87dd9ea1566d"
      },
      "outputs": [
        {
          "output_type": "stream",
          "name": "stdout",
          "text": [
            "x =  [2]\n",
            "y =  [-5, 5]\n"
          ]
        }
      ],
      "source": [
        "import sympy\n",
        "from sympy import symbols\n",
        "from sympy.solvers import solve\n",
        "\n",
        "x = symbols('x')\n",
        "y = symbols('y')\n",
        "\n",
        "#put the equation here\n",
        "# 2x = 4\n",
        "eq1 = 2*x - 4\n",
        "\n",
        "\n",
        "eq2 = y**2 - 3 - 22\n",
        "\n",
        "\n",
        "print(\"x = \", solve(eq1, x))\n",
        "print(\"y = \", solve(eq2, y))"
      ]
    }
  ]
}