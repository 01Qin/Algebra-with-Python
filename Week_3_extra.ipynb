{
  "nbformat": 4,
  "nbformat_minor": 0,
  "metadata": {
    "colab": {
      "provenance": [],
      "authorship_tag": "ABX9TyPWNq0ujON7QJPlYuRBQRJp"
    },
    "kernelspec": {
      "name": "python3",
      "display_name": "Python 3"
    },
    "language_info": {
      "name": "python"
    },
    "widgets": {
      "application/vnd.jupyter.widget-state+json": {
        "f2c62ea7a34f4d29933cae730d5408dd": {
          "model_module": "@jupyter-widgets/controls",
          "model_name": "VBoxModel",
          "model_module_version": "1.5.0",
          "state": {
            "_dom_classes": [
              "widget-interact"
            ],
            "_model_module": "@jupyter-widgets/controls",
            "_model_module_version": "1.5.0",
            "_model_name": "VBoxModel",
            "_view_count": null,
            "_view_module": "@jupyter-widgets/controls",
            "_view_module_version": "1.5.0",
            "_view_name": "VBoxView",
            "box_style": "",
            "children": [
              "IPY_MODEL_a8f467ed66714707bf762d4d236802ec",
              "IPY_MODEL_cc9ce531fa114aad88ada00686f29282"
            ],
            "layout": "IPY_MODEL_67039bff624e4190bba0b41c2e644a56"
          }
        },
        "a8f467ed66714707bf762d4d236802ec": {
          "model_module": "@jupyter-widgets/controls",
          "model_name": "IntSliderModel",
          "model_module_version": "1.5.0",
          "state": {
            "_dom_classes": [],
            "_model_module": "@jupyter-widgets/controls",
            "_model_module_version": "1.5.0",
            "_model_name": "IntSliderModel",
            "_view_count": null,
            "_view_module": "@jupyter-widgets/controls",
            "_view_module_version": "1.5.0",
            "_view_name": "IntSliderView",
            "continuous_update": true,
            "description": "zoom",
            "description_tooltip": null,
            "disabled": false,
            "layout": "IPY_MODEL_18be6a7b990044dc979fd1945eddd66b",
            "max": 100,
            "min": 1,
            "orientation": "horizontal",
            "readout": true,
            "readout_format": "d",
            "step": 1,
            "style": "IPY_MODEL_c86c808d303e416988119c8c4430e457",
            "value": 50
          }
        },
        "cc9ce531fa114aad88ada00686f29282": {
          "model_module": "@jupyter-widgets/output",
          "model_name": "OutputModel",
          "model_module_version": "1.0.0",
          "state": {
            "_dom_classes": [],
            "_model_module": "@jupyter-widgets/output",
            "_model_module_version": "1.0.0",
            "_model_name": "OutputModel",
            "_view_count": null,
            "_view_module": "@jupyter-widgets/output",
            "_view_module_version": "1.0.0",
            "_view_name": "OutputView",
            "layout": "IPY_MODEL_82c2181f009d4a8a88c8a743d4f4f1b3",
            "msg_id": "",
            "outputs": [
              {
                "output_type": "display_data",
                "data": {
                  "text/plain": "<Figure size 640x480 with 1 Axes>",
                  "image/png": "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\n"
                },
                "metadata": {}
              }
            ]
          }
        },
        "67039bff624e4190bba0b41c2e644a56": {
          "model_module": "@jupyter-widgets/base",
          "model_name": "LayoutModel",
          "model_module_version": "1.2.0",
          "state": {
            "_model_module": "@jupyter-widgets/base",
            "_model_module_version": "1.2.0",
            "_model_name": "LayoutModel",
            "_view_count": null,
            "_view_module": "@jupyter-widgets/base",
            "_view_module_version": "1.2.0",
            "_view_name": "LayoutView",
            "align_content": null,
            "align_items": null,
            "align_self": null,
            "border": null,
            "bottom": null,
            "display": null,
            "flex": null,
            "flex_flow": null,
            "grid_area": null,
            "grid_auto_columns": null,
            "grid_auto_flow": null,
            "grid_auto_rows": null,
            "grid_column": null,
            "grid_gap": null,
            "grid_row": null,
            "grid_template_areas": null,
            "grid_template_columns": null,
            "grid_template_rows": null,
            "height": null,
            "justify_content": null,
            "justify_items": null,
            "left": null,
            "margin": null,
            "max_height": null,
            "max_width": null,
            "min_height": null,
            "min_width": null,
            "object_fit": null,
            "object_position": null,
            "order": null,
            "overflow": null,
            "overflow_x": null,
            "overflow_y": null,
            "padding": null,
            "right": null,
            "top": null,
            "visibility": null,
            "width": null
          }
        },
        "18be6a7b990044dc979fd1945eddd66b": {
          "model_module": "@jupyter-widgets/base",
          "model_name": "LayoutModel",
          "model_module_version": "1.2.0",
          "state": {
            "_model_module": "@jupyter-widgets/base",
            "_model_module_version": "1.2.0",
            "_model_name": "LayoutModel",
            "_view_count": null,
            "_view_module": "@jupyter-widgets/base",
            "_view_module_version": "1.2.0",
            "_view_name": "LayoutView",
            "align_content": null,
            "align_items": null,
            "align_self": null,
            "border": null,
            "bottom": null,
            "display": null,
            "flex": null,
            "flex_flow": null,
            "grid_area": null,
            "grid_auto_columns": null,
            "grid_auto_flow": null,
            "grid_auto_rows": null,
            "grid_column": null,
            "grid_gap": null,
            "grid_row": null,
            "grid_template_areas": null,
            "grid_template_columns": null,
            "grid_template_rows": null,
            "height": null,
            "justify_content": null,
            "justify_items": null,
            "left": null,
            "margin": null,
            "max_height": null,
            "max_width": null,
            "min_height": null,
            "min_width": null,
            "object_fit": null,
            "object_position": null,
            "order": null,
            "overflow": null,
            "overflow_x": null,
            "overflow_y": null,
            "padding": null,
            "right": null,
            "top": null,
            "visibility": null,
            "width": null
          }
        },
        "c86c808d303e416988119c8c4430e457": {
          "model_module": "@jupyter-widgets/controls",
          "model_name": "SliderStyleModel",
          "model_module_version": "1.5.0",
          "state": {
            "_model_module": "@jupyter-widgets/controls",
            "_model_module_version": "1.5.0",
            "_model_name": "SliderStyleModel",
            "_view_count": null,
            "_view_module": "@jupyter-widgets/base",
            "_view_module_version": "1.2.0",
            "_view_name": "StyleView",
            "description_width": "",
            "handle_color": null
          }
        },
        "82c2181f009d4a8a88c8a743d4f4f1b3": {
          "model_module": "@jupyter-widgets/base",
          "model_name": "LayoutModel",
          "model_module_version": "1.2.0",
          "state": {
            "_model_module": "@jupyter-widgets/base",
            "_model_module_version": "1.2.0",
            "_model_name": "LayoutModel",
            "_view_count": null,
            "_view_module": "@jupyter-widgets/base",
            "_view_module_version": "1.2.0",
            "_view_name": "LayoutView",
            "align_content": null,
            "align_items": null,
            "align_self": null,
            "border": null,
            "bottom": null,
            "display": null,
            "flex": null,
            "flex_flow": null,
            "grid_area": null,
            "grid_auto_columns": null,
            "grid_auto_flow": null,
            "grid_auto_rows": null,
            "grid_column": null,
            "grid_gap": null,
            "grid_row": null,
            "grid_template_areas": null,
            "grid_template_columns": null,
            "grid_template_rows": null,
            "height": null,
            "justify_content": null,
            "justify_items": null,
            "left": null,
            "margin": null,
            "max_height": null,
            "max_width": null,
            "min_height": null,
            "min_width": null,
            "object_fit": null,
            "object_position": null,
            "order": null,
            "overflow": null,
            "overflow_x": null,
            "overflow_y": null,
            "padding": null,
            "right": null,
            "top": null,
            "visibility": null,
            "width": null
          }
        }
      }
    }
  },
  "cells": [
    {
      "cell_type": "markdown",
      "source": [
        "# Proportions"
      ],
      "metadata": {
        "id": "WYWs2Ih94roU"
      }
    },
    {
      "cell_type": "markdown",
      "source": [
        "Set up a proportion:<br>\n",
        "$\\frac{n1}{d1}=\\frac{n2}{d2}$"
      ],
      "metadata": {
        "id": "P0CT7uVG4zcT"
      }
    },
    {
      "cell_type": "code",
      "source": [
        "# put a zero in for the unknown value\n",
        "n1 = 1\n",
        "d1 = 2\n",
        "n2 = 4\n",
        "d2 = 0\n",
        "\n",
        "if n2==0:\n",
        "  answer = d2 * n1 / d1\n",
        "  print(\"n2 = \", answer)\n",
        "\n",
        "if d2 == 0:\n",
        "  answer = n2 * d1 / n1\n",
        "  print(\"d2 = \", answer)\n"
      ],
      "metadata": {
        "colab": {
          "base_uri": "https://localhost:8080/"
        },
        "id": "CyVFaGRS4ykP",
        "outputId": "8af2f199-6d75-4cf7-dc39-eb9e03453d30"
      },
      "execution_count": 1,
      "outputs": [
        {
          "output_type": "stream",
          "name": "stdout",
          "text": [
            "d2 =  8.0\n"
          ]
        }
      ]
    },
    {
      "cell_type": "markdown",
      "source": [
        "# Convert decimal to fraction and percent"
      ],
      "metadata": {
        "id": "FbJsDQwZ43Zn"
      }
    },
    {
      "cell_type": "code",
      "execution_count": 2,
      "metadata": {
        "colab": {
          "base_uri": "https://localhost:8080/"
        },
        "id": "vjIQMfvQ4nO4",
        "outputId": "edea2021-6e30-4679-c52d-0b507fc4ada0"
      },
      "outputs": [
        {
          "output_type": "stream",
          "name": "stdout",
          "text": [
            "Enter a decimal number to convert: .98\n",
            "The decimal is  0.98\n",
            "The fraction is  98 / 100\n",
            "The percent is  98.0 %\n"
          ]
        }
      ],
      "source": [
        "# Get string input, which will include a decimal point\n",
        "digits = input(\"Enter a decimal number to convert: \")\n",
        "\n",
        "# Get number of decimal places then minus the decimal\n",
        "exponent = int(len(digits)) - 1\n",
        "\n",
        "# Convert the input to a float number\n",
        "n = float(digits)\n",
        "\n",
        "# Use the exponent to get the numerator\n",
        "numerator = int(n * 10**exponent)\n",
        "\n",
        "# Use the exponent to get the denominator\n",
        "denominator = 10**exponent\n",
        "\n",
        "# Percent is the first two decimal places\n",
        "percent = n * 100\n",
        "\n",
        "# Output\n",
        "print(\"The decimal is \", n)\n",
        "print(\"The fraction is \", numerator, \"/\", denominator)\n",
        "print(\"The percent is \", percent, \"%\")"
      ]
    },
    {
      "cell_type": "markdown",
      "source": [
        "# Solve for a variable"
      ],
      "metadata": {
        "id": "u6bRP_Wk97TN"
      }
    },
    {
      "cell_type": "code",
      "source": [
        "from re import X\n",
        "from sympy import *\n",
        "import math\n",
        "\n",
        "# Identify all variables\n",
        "var('a b c d x')\n",
        "\n",
        "# left and right sides of the euqal sign\n",
        "left = 0\n",
        "right = a*x**2 + b*x + c\n",
        "\n",
        "#variable to solve for\n",
        "variable = X\n",
        "\n",
        "# sympy equation left = right\n",
        "eq1 = Eq(left,right)\n",
        "\n",
        "# sympy solve for that variable\n",
        "sol = solve(eq1,variable)\n",
        "\n",
        "# show factored results\n",
        "for s in sol:\n",
        "  print(variable, \"=\", s)"
      ],
      "metadata": {
        "id": "_bsgIqNn99T-"
      },
      "execution_count": 2,
      "outputs": []
    },
    {
      "cell_type": "markdown",
      "source": [
        "# Slope-intercept equation from two points"
      ],
      "metadata": {
        "id": "CyhzprsFFGPa"
      }
    },
    {
      "cell_type": "code",
      "source": [
        "import matplotlib.pyplot as plt\n",
        "import numpy as np\n",
        "\n",
        "x1 = 0\n",
        "y1 = 32\n",
        "x2 = 100\n",
        "y2 = 212\n",
        "\n",
        "# Develop the equation y = mx + b\n",
        "m = (y2 - y1) / (x2 - x1)\n",
        "b = y1 - m*x1\n",
        "print(\"y = \", m, \"x = \", b)\n",
        "\n",
        "# for the graph\n",
        "xmin = 0\n",
        "xmax = 10\n",
        "ymin = 0\n",
        "ymax = 500\n",
        "\n",
        "# for the line on the graph\n",
        "y3 = m*xmin + b\n",
        "y4 = m*xmax + b\n",
        "\n",
        "# basic setup for the graph\n",
        "fig, ax = plt.subplots()\n",
        "plt.axis([xmin,xmax,ymin,ymax]) # window size\n",
        "plt.plot([xmin,xmax],[0,0],'b') # blue x axis\n",
        "plt.plot([0,0],[ymin,ymax],'b') # blue y axis\n",
        "\n",
        "# add details to the graph\n",
        "ax.set_xlabel(\"x values\")\n",
        "ax.set_ylabel(\"y values\")\n",
        "ax.grid(True)\n",
        "#ax.set_xticks(np.arange(xmin, xmax, 2))\n",
        "#ax.set_yticks(np.arange(ymin, ymax, 1))\n",
        "\n",
        "# plot the linear function as a red line\n",
        "plt.plot([xmin, xmax], [y3, y4],'r')\n",
        "plt.show()\n"
      ],
      "metadata": {
        "colab": {
          "base_uri": "https://localhost:8080/",
          "height": 472
        },
        "id": "sI03vqccFGAG",
        "outputId": "4082af98-c89b-4acb-f511-c637c80fef3e"
      },
      "execution_count": 4,
      "outputs": [
        {
          "output_type": "stream",
          "name": "stdout",
          "text": [
            "y =  1.8 x =  32.0\n"
          ]
        },
        {
          "output_type": "display_data",
          "data": {
            "text/plain": [
              "<Figure size 640x480 with 1 Axes>"
            ],
            "image/png": "[encoded data removed]"
          },
          "metadata": {}
        }
      ]
    },
    {
      "cell_type": "markdown",
      "source": [
        "# Graph lines and zoom in or out"
      ],
      "metadata": {
        "id": "JizZhjeNH05y"
      }
    },
    {
      "cell_type": "code",
      "source": [
        "%matplotlib inline\n",
        "from ipywidgets import interactive\n",
        "import matplotlib.pyplot as plt\n",
        "import numpy as np\n",
        "\n",
        "# define the graphing function\n",
        "def f(zoom):\n",
        "    xmin = -zoom\n",
        "    xmax = zoom\n",
        "    ymin = -zoom\n",
        "    ymax = zoom\n",
        "    points = 10*xmax - xmin\n",
        "    x = np.linspace(xmin, xmax, points)\n",
        "\n",
        "    fig, ax = plt.subplots()\n",
        "    plt.axis([xmin, xmax, ymin, ymax]) # window size\n",
        "    plt.plot([xmin, xmax], [0,0], 'black') # black x axis\n",
        "    plt.plot([0, 0], [ymin, ymax], 'black') # black y axis\n",
        "\n",
        "    # change y1 to be any function\n",
        "    y1 = 3*x\n",
        "    plt.plot(x, y1)\n",
        "\n",
        "    # plot another line her if you want\n",
        "    # y2 =\n",
        "    # plt.plot(x, y2)\n",
        "\n",
        "    ax.set_label(\"x values\")\n",
        "    ax.set_ylabel(\"y values\")\n",
        "    ax.set_title(\"some graph\")\n",
        "    ticks = int(round((xmax - xmin)/10))\n",
        "    ax.set_xticks(np.arange(xmin, xmax, ticks))\n",
        "    ax.set_yticks(np.arange(ymin, ymax, ticks))\n",
        "    ax.grid(True)\n",
        "    plt.show()\n",
        "\n",
        "  # set up the slider\n",
        "interactive_plot = interactive(f, zoom=(1, 100))\n",
        "interactive_plot\n",
        "\n",
        "# loved the slider, so cool XD"
      ],
      "metadata": {
        "colab": {
          "base_uri": "https://localhost:8080/",
          "height": 484,
          "referenced_widgets": [
            "f2c62ea7a34f4d29933cae730d5408dd",
            "a8f467ed66714707bf762d4d236802ec",
            "cc9ce531fa114aad88ada00686f29282",
            "67039bff624e4190bba0b41c2e644a56",
            "18be6a7b990044dc979fd1945eddd66b",
            "c86c808d303e416988119c8c4430e457",
            "82c2181f009d4a8a88c8a743d4f4f1b3"
          ]
        },
        "id": "csoP6jnCH51W",
        "outputId": "cffa8933-6621-4372-b108-c8d7f3322199"
      },
      "execution_count": 2,
      "outputs": [
        {
          "output_type": "display_data",
          "data": {
            "text/plain": [
              "interactive(children=(IntSlider(value=50, description='zoom', min=1), Output()), _dom_classes=('widget-interac…"
            ],
            "application/vnd.jupyter.widget-view+json": {
              "version_major": 2,
              "version_minor": 0,
              "model_id": "f2c62ea7a34f4d29933cae730d5408dd"
            }
          },
          "metadata": {}
        }
      ]
    }
  ]
}