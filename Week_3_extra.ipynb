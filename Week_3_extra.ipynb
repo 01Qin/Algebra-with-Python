{
  "nbformat": 4,
  "nbformat_minor": 0,
  "metadata": {
    "colab": {
      "provenance": [],
      "authorship_tag": "ABX9TyOppgD5Mp+eWea5Jl199TVL"
    },
    "kernelspec": {
      "name": "python3",
      "display_name": "Python 3"
    },
    "language_info": {
      "name": "python"
    },
    "widgets": {
      "application/vnd.jupyter.widget-state+json": {
        "705a6b976c5e44908e9afdf9226e668c": {
          "model_module": "@jupyter-widgets/controls",
          "model_name": "VBoxModel",
          "model_module_version": "1.5.0",
          "state": {
            "_dom_classes": [
              "widget-interact"
            ],
            "_model_module": "@jupyter-widgets/controls",
            "_model_module_version": "1.5.0",
            "_model_name": "VBoxModel",
            "_view_count": null,
            "_view_module": "@jupyter-widgets/controls",
            "_view_module_version": "1.5.0",
            "_view_name": "VBoxView",
            "box_style": "",
            "children": [
              "IPY_MODEL_bf471f5822e14d6ab7144f1657137e52",
              "IPY_MODEL_a38759d3d6824289a6d00e1516612bbf"
            ],
            "layout": "IPY_MODEL_752469b096f44d5ebc8aaa594b6929c2"
          }
        },
        "bf471f5822e14d6ab7144f1657137e52": {
          "model_module": "@jupyter-widgets/controls",
          "model_name": "IntSliderModel",
          "model_module_version": "1.5.0",
          "state": {
            "_dom_classes": [],
            "_model_module": "@jupyter-widgets/controls",
            "_model_module_version": "1.5.0",
            "_model_name": "IntSliderModel",
            "_view_count": null,
            "_view_module": "@jupyter-widgets/controls",
            "_view_module_version": "1.5.0",
            "_view_name": "IntSliderView",
            "continuous_update": true,
            "description": "zoom",
            "description_tooltip": null,
            "disabled": false,
            "layout": "IPY_MODEL_5f25cc8aba7444b6bb487b2056cfcc47",
            "max": 100,
            "min": 1,
            "orientation": "horizontal",
            "readout": true,
            "readout_format": "d",
            "step": 1,
            "style": "IPY_MODEL_0c8700d9eff248b68c562e55961ab75f",
            "value": 32
          }
        },
        "a38759d3d6824289a6d00e1516612bbf": {
          "model_module": "@jupyter-widgets/output",
          "model_name": "OutputModel",
          "model_module_version": "1.0.0",
          "state": {
            "_dom_classes": [],
            "_model_module": "@jupyter-widgets/output",
            "_model_module_version": "1.0.0",
            "_model_name": "OutputModel",
            "_view_count": null,
            "_view_module": "@jupyter-widgets/output",
            "_view_module_version": "1.0.0",
            "_view_name": "OutputView",
            "layout": "IPY_MODEL_52519290dd514d479e2b0e98ab009417",
            "msg_id": "",
            "outputs": [
              {
                "output_type": "display_data",
                "data": {
                  "text/plain": "<Figure size 640x480 with 1 Axes>",
                  "image/png": "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\n"
                },
                "metadata": {}
              }
            ]
          }
        },
        "752469b096f44d5ebc8aaa594b6929c2": {
          "model_module": "@jupyter-widgets/base",
          "model_name": "LayoutModel",
          "model_module_version": "1.2.0",
          "state": {
            "_model_module": "@jupyter-widgets/base",
            "_model_module_version": "1.2.0",
            "_model_name": "LayoutModel",
            "_view_count": null,
            "_view_module": "@jupyter-widgets/base",
            "_view_module_version": "1.2.0",
            "_view_name": "LayoutView",
            "align_content": null,
            "align_items": null,
            "align_self": null,
            "border": null,
            "bottom": null,
            "display": null,
            "flex": null,
            "flex_flow": null,
            "grid_area": null,
            "grid_auto_columns": null,
            "grid_auto_flow": null,
            "grid_auto_rows": null,
            "grid_column": null,
            "grid_gap": null,
            "grid_row": null,
            "grid_template_areas": null,
            "grid_template_columns": null,
            "grid_template_rows": null,
            "height": null,
            "justify_content": null,
            "justify_items": null,
            "left": null,
            "margin": null,
            "max_height": null,
            "max_width": null,
            "min_height": null,
            "min_width": null,
            "object_fit": null,
            "object_position": null,
            "order": null,
            "overflow": null,
            "overflow_x": null,
            "overflow_y": null,
            "padding": null,
            "right": null,
            "top": null,
            "visibility": null,
            "width": null
          }
        },
        "5f25cc8aba7444b6bb487b2056cfcc47": {
          "model_module": "@jupyter-widgets/base",
          "model_name": "LayoutModel",
          "model_module_version": "1.2.0",
          "state": {
            "_model_module": "@jupyter-widgets/base",
            "_model_module_version": "1.2.0",
            "_model_name": "LayoutModel",
            "_view_count": null,
            "_view_module": "@jupyter-widgets/base",
            "_view_module_version": "1.2.0",
            "_view_name": "LayoutView",
            "align_content": null,
            "align_items": null,
            "align_self": null,
            "border": null,
            "bottom": null,
            "display": null,
            "flex": null,
            "flex_flow": null,
            "grid_area": null,
            "grid_auto_columns": null,
            "grid_auto_flow": null,
            "grid_auto_rows": null,
            "grid_column": null,
            "grid_gap": null,
            "grid_row": null,
            "grid_template_areas": null,
            "grid_template_columns": null,
            "grid_template_rows": null,
            "height": null,
            "justify_content": null,
            "justify_items": null,
            "left": null,
            "margin": null,
            "max_height": null,
            "max_width": null,
            "min_height": null,
            "min_width": null,
            "object_fit": null,
            "object_position": null,
            "order": null,
            "overflow": null,
            "overflow_x": null,
            "overflow_y": null,
            "padding": null,
            "right": null,
            "top": null,
            "visibility": null,
            "width": null
          }
        },
        "0c8700d9eff248b68c562e55961ab75f": {
          "model_module": "@jupyter-widgets/controls",
          "model_name": "SliderStyleModel",
          "model_module_version": "1.5.0",
          "state": {
            "_model_module": "@jupyter-widgets/controls",
            "_model_module_version": "1.5.0",
            "_model_name": "SliderStyleModel",
            "_view_count": null,
            "_view_module": "@jupyter-widgets/base",
            "_view_module_version": "1.2.0",
            "_view_name": "StyleView",
            "description_width": "",
            "handle_color": null
          }
        },
        "52519290dd514d479e2b0e98ab009417": {
          "model_module": "@jupyter-widgets/base",
          "model_name": "LayoutModel",
          "model_module_version": "1.2.0",
          "state": {
            "_model_module": "@jupyter-widgets/base",
            "_model_module_version": "1.2.0",
            "_model_name": "LayoutModel",
            "_view_count": null,
            "_view_module": "@jupyter-widgets/base",
            "_view_module_version": "1.2.0",
            "_view_name": "LayoutView",
            "align_content": null,
            "align_items": null,
            "align_self": null,
            "border": null,
            "bottom": null,
            "display": null,
            "flex": null,
            "flex_flow": null,
            "grid_area": null,
            "grid_auto_columns": null,
            "grid_auto_flow": null,
            "grid_auto_rows": null,
            "grid_column": null,
            "grid_gap": null,
            "grid_row": null,
            "grid_template_areas": null,
            "grid_template_columns": null,
            "grid_template_rows": null,
            "height": null,
            "justify_content": null,
            "justify_items": null,
            "left": null,
            "margin": null,
            "max_height": null,
            "max_width": null,
            "min_height": null,
            "min_width": null,
            "object_fit": null,
            "object_position": null,
            "order": null,
            "overflow": null,
            "overflow_x": null,
            "overflow_y": null,
            "padding": null,
            "right": null,
            "top": null,
            "visibility": null,
            "width": null
          }
        }
      }
    }
  },
  "cells": [
    {
      "cell_type": "markdown",
      "source": [
        "# Proportions"
      ],
      "metadata": {
        "id": "WYWs2Ih94roU"
      }
    },
    {
      "cell_type": "markdown",
      "source": [
        "Set up a proportion:<br>\n",
        "$\\frac{n1}{d1}=\\frac{n2}{d2}$"
      ],
      "metadata": {
        "id": "P0CT7uVG4zcT"
      }
    },
    {
      "cell_type": "code",
      "source": [
        "# put a zero in for the unknown value\n",
        "n1 = 1\n",
        "d1 = 2\n",
        "n2 = 4\n",
        "d2 = 0\n",
        "\n",
        "if n2==0:\n",
        "  answer = d2 * n1 / d1\n",
        "  print(\"n2 = \", answer)\n",
        "\n",
        "if d2 == 0:\n",
        "  answer = n2 * d1 / n1\n",
        "  print(\"d2 = \", answer)\n"
      ],
      "metadata": {
        "colab": {
          "base_uri": "https://localhost:8080/"
        },
        "id": "CyVFaGRS4ykP",
        "outputId": "8af2f199-6d75-4cf7-dc39-eb9e03453d30"
      },
      "execution_count": 1,
      "outputs": [
        {
          "output_type": "stream",
          "name": "stdout",
          "text": [
            "d2 =  8.0\n"
          ]
        }
      ]
    },
    {
      "cell_type": "markdown",
      "source": [
        "# Convert decimal to fraction and percent"
      ],
      "metadata": {
        "id": "FbJsDQwZ43Zn"
      }
    },
    {
      "cell_type": "code",
      "execution_count": 2,
      "metadata": {
        "colab": {
          "base_uri": "https://localhost:8080/"
        },
        "id": "vjIQMfvQ4nO4",
        "outputId": "edea2021-6e30-4679-c52d-0b507fc4ada0"
      },
      "outputs": [
        {
          "output_type": "stream",
          "name": "stdout",
          "text": [
            "Enter a decimal number to convert: .98\n",
            "The decimal is  0.98\n",
            "The fraction is  98 / 100\n",
            "The percent is  98.0 %\n"
          ]
        }
      ],
      "source": [
        "# Get string input, which will include a decimal point\n",
        "digits = input(\"Enter a decimal number to convert: \")\n",
        "\n",
        "# Get number of decimal places then minus the decimal\n",
        "exponent = int(len(digits)) - 1\n",
        "\n",
        "# Convert the input to a float number\n",
        "n = float(digits)\n",
        "\n",
        "# Use the exponent to get the numerator\n",
        "numerator = int(n * 10**exponent)\n",
        "\n",
        "# Use the exponent to get the denominator\n",
        "denominator = 10**exponent\n",
        "\n",
        "# Percent is the first two decimal places\n",
        "percent = n * 100\n",
        "\n",
        "# Output\n",
        "print(\"The decimal is \", n)\n",
        "print(\"The fraction is \", numerator, \"/\", denominator)\n",
        "print(\"The percent is \", percent, \"%\")"
      ]
    },
    {
      "cell_type": "markdown",
      "source": [
        "# Solve for a variable"
      ],
      "metadata": {
        "id": "u6bRP_Wk97TN"
      }
    },
    {
      "cell_type": "code",
      "source": [
        "from re import X\n",
        "from sympy import *\n",
        "import math\n",
        "\n",
        "# Identify all variables\n",
        "var('a b c d x')\n",
        "\n",
        "# left and right sides of the euqal sign\n",
        "left = 0\n",
        "right = a*x**2 + b*x + c\n",
        "\n",
        "#variable to solve for\n",
        "variable = X\n",
        "\n",
        "# sympy equation left = right\n",
        "eq1 = Eq(left,right)\n",
        "\n",
        "# sympy solve for that variable\n",
        "sol = solve(eq1,variable)\n",
        "\n",
        "# show factored results\n",
        "for s in sol:\n",
        "  print(variable, \"=\", s)"
      ],
      "metadata": {
        "id": "_bsgIqNn99T-"
      },
      "execution_count": 2,
      "outputs": []
    },
    {
      "cell_type": "markdown",
      "source": [
        "# Slope-intercept equation from two points"
      ],
      "metadata": {
        "id": "CyhzprsFFGPa"
      }
    },
    {
      "cell_type": "code",
      "source": [
        "import matplotlib.pyplot as plt\n",
        "import numpy as np\n",
        "\n",
        "x1 = 0\n",
        "y1 = 32\n",
        "x2 = 100\n",
        "y2 = 212\n",
        "\n",
        "# Develop the equation y = mx + b\n",
        "m = (y2 - y1) / (x2 - x1)\n",
        "b = y1 - m*x1\n",
        "print(\"y = \", m, \"x = \", b)\n",
        "\n",
        "# for the graph\n",
        "xmin = 0\n",
        "xmax = 10\n",
        "ymin = 0\n",
        "ymax = 500\n",
        "\n",
        "# for the line on the graph\n",
        "y3 = m*xmin + b\n",
        "y4 = m*xmax + b\n",
        "\n",
        "# basic setup for the graph\n",
        "fig, ax = plt.subplots()\n",
        "plt.axis([xmin,xmax,ymin,ymax]) # window size\n",
        "plt.plot([xmin,xmax],[0,0],'b') # blue x axis\n",
        "plt.plot([0,0],[ymin,ymax],'b') # blue y axis\n",
        "\n",
        "# add details to the graph\n",
        "ax.set_xlabel(\"x values\")\n",
        "ax.set_ylabel(\"y values\")\n",
        "ax.grid(True)\n",
        "#ax.set_xticks(np.arange(xmin, xmax, 2))\n",
        "#ax.set_yticks(np.arange(ymin, ymax, 1))\n",
        "\n",
        "# plot the linear function as a red line\n",
        "plt.plot([xmin, xmax], [y3, y4],'r')\n",
        "plt.show()\n"
      ],
      "metadata": {
        "colab": {
          "base_uri": "https://localhost:8080/",
          "height": 472
        },
        "id": "sI03vqccFGAG",
        "outputId": "4082af98-c89b-4acb-f511-c637c80fef3e"
      },
      "execution_count": 4,
      "outputs": [
        {
          "output_type": "stream",
          "name": "stdout",
          "text": [
            "y =  1.8 x =  32.0\n"
          ]
        },
        {
          "output_type": "display_data",
          "data": {
            "text/plain": [
              "<Figure size 640x480 with 1 Axes>"
            ],
            "image/png": "[encoded data removed]"
          },
          "metadata": {}
        }
      ]
    },
    {
      "cell_type": "markdown",
      "source": [
        "# Graph lines and zoom in or out"
      ],
      "metadata": {
        "id": "JizZhjeNH05y"
      }
    },
    {
      "cell_type": "code",
      "source": [
        "# %matplotlib inline\n",
        "# from ipywidgets import interactive\n",
        "import matplotlib.pyplot as plt\n",
        "import numpy as np\n",
        "\n",
        "# define the graphing function\n",
        "def f(zoom):\n",
        "    xmin = -zoom\n",
        "    xmax = zoom\n",
        "    ymin = -zoom\n",
        "    ymax = zoom\n",
        "    points = 10*xmax - xmin\n",
        "    x = np.linspace(xmin, xmax, points)\n",
        "\n",
        "    fig, ax = plt.subplots()\n",
        "    plt.axis([xmin, xmax, ymin, ymax]) # window size\n",
        "    plt.plot([xmin, xmax], [0,0], 'black') # black x axis\n",
        "    plt.plot([0, 0], [ymin, ymax], 'black') # black y axis\n",
        "\n",
        "    # change y1 to be any function\n",
        "    y1 = 3*x\n",
        "    plt.plot(x, y1)\n",
        "\n",
        "    # plot another line her if you want\n",
        "    # y2 =\n",
        "    # plt.plot(x, y2)\n",
        "\n",
        "    ax.set_label(\"x values\")\n",
        "    ax.set_ylabel(\"y values\")\n",
        "    ax.set_title(\"some graph\")\n",
        "    ticks = int(round((xmax - xmin)/10))\n",
        "    ax.set_xticks(np.arange(xmin, xmax, ticks))\n",
        "    ax.set_yticks(np.arange(ymin, ymax, ticks))\n",
        "    ax.grid(True)\n",
        "    plt.show()\n",
        "\n",
        "  # set up the slider\n",
        "interactive_plot = interactive(f, zoom=(1, 100))\n",
        "interactive_plot\n",
        "\n",
        "# loved the slider, so cool XD"
      ],
      "metadata": {
        "colab": {
          "base_uri": "https://localhost:8080/",
          "height": 484,
          "referenced_widgets": [
            "705a6b976c5e44908e9afdf9226e668c",
            "bf471f5822e14d6ab7144f1657137e52",
            "a38759d3d6824289a6d00e1516612bbf",
            "752469b096f44d5ebc8aaa594b6929c2",
            "5f25cc8aba7444b6bb487b2056cfcc47",
            "0c8700d9eff248b68c562e55961ab75f",
            "52519290dd514d479e2b0e98ab009417"
          ]
        },
        "id": "csoP6jnCH51W",
        "outputId": "fd4885fb-b037-4501-ee32-00f1c0e88bdf"
      },
      "execution_count": 7,
      "outputs": [
        {
          "output_type": "display_data",
          "data": {
            "text/plain": [
              "interactive(children=(IntSlider(value=50, description='zoom', min=1), Output()), _dom_classes=('widget-interac…"
            ],
            "application/vnd.jupyter.widget-view+json": {
              "version_major": 2,
              "version_minor": 0,
              "model_id": "705a6b976c5e44908e9afdf9226e668c"
            }
          },
          "metadata": {}
        }
      ]
    }
  ]
}