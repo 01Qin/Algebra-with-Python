{
  "nbformat": 4,
  "nbformat_minor": 0,
  "metadata": {
    "colab": {
      "provenance": [],
      "authorship_tag": "ABX9TyN4MKVBmLRRjToiSE8PhHx1"
    },
    "kernelspec": {
      "name": "python3",
      "display_name": "Python 3"
    },
    "language_info": {
      "name": "python"
    }
  },
  "cells": [
    {
      "cell_type": "markdown",
      "source": [
        "# Proportions"
      ],
      "metadata": {
        "id": "WYWs2Ih94roU"
      }
    },
    {
      "cell_type": "markdown",
      "source": [
        "Set up a proportion:<br>\n",
        "$\\frac{n1}{d1}=\\frac{n2}{d2}$"
      ],
      "metadata": {
        "id": "P0CT7uVG4zcT"
      }
    },
    {
      "cell_type": "code",
      "source": [
        "# put a zero in for the unknown value\n",
        "n1 = 1\n",
        "d1 = 2\n",
        "n2 = 4\n",
        "d2 = 0\n",
        "\n",
        "if n2==0:\n",
        "  answer = d2 * n1 / d1\n",
        "  print(\"n2 = \", answer)\n",
        "\n",
        "if d2 == 0:\n",
        "  answer = n2 * d1 / n1\n",
        "  print(\"d2 = \", answer)\n"
      ],
      "metadata": {
        "id": "CyVFaGRS4ykP"
      },
      "execution_count": null,
      "outputs": []
    },
    {
      "cell_type": "markdown",
      "source": [
        "# Convert decimal to fraction and percent"
      ],
      "metadata": {
        "id": "FbJsDQwZ43Zn"
      }
    },
    {
      "cell_type": "code",
      "execution_count": null,
      "metadata": {
        "id": "vjIQMfvQ4nO4"
      },
      "outputs": [],
      "source": [
        "# Get string input, which will include a decimal point\n",
        "digits = input(\"Enter a decimal number to convert: \")\n",
        "\n",
        "# Get number of decimal places then minus the decimal\n",
        "exponent = int(len(digits)) - 1\n",
        "\n",
        "# Convert the input to a float number\n",
        "n = float(digits)\n",
        "\n",
        "# Use the exponent to get the numerator\n",
        "numerator = int(n * 10**exponent)\n",
        "\n",
        "# Use the exponent to get the denominator\n",
        "denominator = 10**exponent\n",
        "\n",
        "# Percent is the first two decimal places\n",
        "percent = n * 100\n",
        "\n",
        "# Output\n",
        "print(\"The decimal is \", n)\n",
        "print(\"The fraction is \", numerator, \"/\", denominator)\n",
        "print(\"The percent is \", percent, \"%\")"
      ]
    },
    {
      "cell_type": "markdown",
      "source": [
        "# Solve for a variable"
      ],
      "metadata": {
        "id": "u6bRP_Wk97TN"
      }
    },
    {
      "cell_type": "code",
      "source": [
        "from re import X\n",
        "from sympy import *\n",
        "import math\n",
        "\n",
        "# Identify all variables\n",
        "var('a b c d x')\n",
        "\n",
        "# left and right sides of the euqal sign\n",
        "left = 0\n",
        "right = a*x**2 + b*x + c\n",
        "\n",
        "#variable to solve for\n",
        "variable = X\n",
        "\n",
        "# sympy equation left = right\n",
        "eq1 = Eq(left,right)\n",
        "\n",
        "# sympy solve for that variable\n",
        "sol = solve(eq1,variable)\n",
        "\n",
        "# show factored results\n",
        "for s in sol:\n",
        "  print(variable, \"=\", s)"
      ],
      "metadata": {
        "id": "_bsgIqNn99T-"
      },
      "execution_count": null,
      "outputs": []
    },
    {
      "cell_type": "markdown",
      "source": [
        "# Slope-intercept equation from two points"
      ],
      "metadata": {
        "id": "CyhzprsFFGPa"
      }
    },
    {
      "cell_type": "code",
      "source": [
        "import matplotlib.pyplot as plt\n",
        "import numpy as np\n",
        "\n",
        "x1 = 0\n",
        "y1 = 32\n",
        "x2 = 100\n",
        "y2 = 212\n",
        "\n",
        "# Develop the equation y = mx + b\n",
        "m = (y2 - y1) / (x2 - x1)\n",
        "b = y1 - m*x1\n",
        "print(\"y = \", m, \"x = \", b)\n",
        "\n",
        "# for the graph\n",
        "xmin = 0\n",
        "xmax = 10\n",
        "ymin = 0\n",
        "ymax = 500\n",
        "\n",
        "# for the line on the graph\n",
        "y3 = m*xmin + b\n",
        "y4 = m*xmax + b\n",
        "\n",
        "# basic setup for the graph\n",
        "fig, ax = plt.subplots()\n",
        "plt.axis([xmin,xmax,ymin,ymax]) # window size\n",
        "plt.plot([xmin,xmax],[0,0],'b') # blue x axis\n",
        "plt.plot([0,0],[ymin,ymax],'b') # blue y axis\n",
        "\n",
        "# add details to the graph\n",
        "ax.set_xlabel(\"x values\")\n",
        "ax.set_ylabel(\"y values\")\n",
        "ax.grid(True)\n",
        "#ax.set_xticks(np.arange(xmin, xmax, 2))\n",
        "#ax.set_yticks(np.arange(ymin, ymax, 1))\n",
        "\n",
        "# plot the linear function as a red line\n",
        "plt.plot([xmin, xmax], [y3, y4],'r')\n",
        "plt.show()\n"
      ],
      "metadata": {
        "id": "sI03vqccFGAG"
      },
      "execution_count": null,
      "outputs": []
    },
    {
      "cell_type": "markdown",
      "source": [
        "# Graph lines and zoom in or out"
      ],
      "metadata": {
        "id": "JizZhjeNH05y"
      }
    },
    {
      "cell_type": "code",
      "source": [
        "# %matplotlib inline\n",
        "# from ipywidgets import interactive\n",
        "import matplotlib.pyplot as plt\n",
        "import numpy as np\n",
        "\n",
        "# define the graphing function\n",
        "def f(zoom):\n",
        "    xmin = -zoom\n",
        "    xmax = zoom\n",
        "    ymin = -zoom\n",
        "    ymax = zoom\n",
        "    points = 10*xmax - xmin\n",
        "    x = np.linspace(xmin, xmax, points)\n",
        "\n",
        "    fig, ax = plt.subplots()\n",
        "    plt.axis([xmin, xmax, ymin, ymax]) # window size\n",
        "    plt.plot([xmin, xmax], [0,0], 'black') # black x axis\n",
        "    plt.plot([0, 0], [ymin, ymax], 'black') # black y axis\n",
        "\n",
        "    # change y1 to be any function\n",
        "    y1 = 3*x\n",
        "    plt.plot(x, y1)\n",
        "\n",
        "    # plot another line her if you want\n",
        "    # y2 =\n",
        "    # plt.plot(x, y2)\n",
        "\n",
        "    ax.set_label(\"x values\")\n",
        "    ax.set_ylabel(\"y values\")\n",
        "    ax.set_title(\"some graph\")\n",
        "    ticks = int(round((xmax - xmin)/10))\n",
        "    ax.set_xticks(np.arange(xmin, xmax, ticks))\n",
        "    ax.set_yticks(np.arange(ymin, ymax, ticks))\n",
        "    ax.grid(True)\n",
        "    plt.show()\n",
        "\n",
        "  # set up the slider\n",
        "interactive_plot = interactive(f, zoom=(1, 100))\n",
        "interactive_plot\n",
        "\n",
        "# loved the slider, so cool XD"
      ],
      "metadata": {
        "id": "csoP6jnCH51W"
      },
      "execution_count": null,
      "outputs": []
    },
    {
      "cell_type": "markdown",
      "source": [
        "# Solve and graph a system equations"
      ],
      "metadata": {
        "id": "H-y3gzMqZK1u"
      }
    },
    {
      "cell_type": "code",
      "source": [
        "from sympy import *\n",
        "from sympy.plotting import plot\n",
        "from sympy import sqrt\n",
        "\n",
        "var('x y')\n",
        "\n",
        "# Firtst equation set equal to 0\n",
        "first =\n",
        "\n",
        "# sedond eqution set equal to 0\n",
        "second =\n",
        "\n",
        "# solve - can be linear or nonlinear equations\n",
        "solution = nonlinsolve([first, second], (x, y))\n",
        "for a in range(len(solution.args)):\n",
        "    x_solution = solution.args[a][0]\n",
        "    y_solution = solution.args[a][1]\n",
        "    print(\"solution = (\", x_solution, \",\", y_solution, \")\")\n",
        "\n",
        "# solve syntax for equation equal to 0\n",
        "y_first = Eq(first, 0)\n",
        "\n",
        "y1 = solve(y_first, y)\n",
        "\n",
        "# same two steps for second euqation\n",
        "y_second = Eq(second, 0)\n",
        "y2 = solve(y_second, y)\n",
        "\n",
        "# show factored results\n",
        "print(\"y = \", y1[0])\n",
        "print(\"y = \", y2[0])\n",
        "\n",
        "# plot solution\n",
        "x = symbols ('x')\n",
        "xmin = -10\n",
        "xmax = 10\n",
        "plot(y1[0], y2[0], (x, xmin, xmax))\n"
      ],
      "metadata": {
        "id": "w9cW-A2mZQQb"
      },
      "execution_count": null,
      "outputs": []
    },
    {
      "cell_type": "markdown",
      "source": [
        "# Save graph and download image"
      ],
      "metadata": {
        "id": "mTtb0tYd_mXT"
      }
    },
    {
      "cell_type": "code",
      "source": [
        "# use this when graphing\n",
        "\n",
        "from google.colab import files\n",
        "\n",
        "# to save and output graph\n",
        "plt.savefig(\"abc.png\")\n",
        "plt.show()\n",
        "files.download(\"abc.png\")"
      ],
      "metadata": {
        "id": "gAUow1W4_p2w"
      },
      "execution_count": null,
      "outputs": []
    },
    {
      "cell_type": "markdown",
      "source": [
        "# Quadratic Functions - roots, vertext, graph"
      ],
      "metadata": {
        "id": "y8dWHyPwtpiL"
      }
    },
    {
      "cell_type": "code",
      "source": [
        "import matplotlib.pyplot as plt\n",
        "import numpy as np\n",
        "import math\n",
        "\n",
        "# define the three coefficients\n",
        "a = 12\n",
        "b = -104\n",
        "c = 160\n",
        "print(\"y = \", a, \"x**2 + \", b, \"x + \", c)\n",
        "\n",
        "# vertex\n",
        "vx = -b/(2*a)\n",
        "vy = a*(vx**2) + b*vx + c\n",
        "print(\"Vertex: (\", vx, \",\", vy,\")\")\n",
        "\n",
        "# roots\n",
        "d = b**2 - 4*a*c\n",
        "if d>=0:\n",
        "  root1 = (-b + math.sqrt(d))/(2*a)\n",
        "  root2 = (- b + math.sqrt(d)) / (2*a)\n",
        "  print(\"Roots: x = \", root1, \" and x = \", root2)\n",
        "else:\n",
        "  print(\"No real roots.\")\n",
        "\n",
        "xmin = -10\n",
        "xmax = 10\n",
        "ymin = -10\n",
        "ymax = 10\n",
        "points = 10*(xmax - xmin)\n",
        "x = np.linspace(xmin, xmax, points)\n",
        "\n",
        "fig, ax = plt.subplots()\n",
        "plt.axis([xmin, xmax, ymin, ymax]) # window size\n",
        "plt.plot([0, 0], [ymin, ymax], 'b')\n",
        "plt.plot([xmin, xmax], [0,0], 'b')\n",
        "\n",
        "# graph the parabola\n",
        "y1 = a*x**2 + b*x + c\n",
        "plt.plot(x, y1)\n",
        "\n",
        "# plot the vertex\n",
        "plt.plot([vx], [vy], 'ro')\n",
        "\n",
        "# plot the roots\n",
        "plt.plot([root1, root2], [0, 0], 'go')\n",
        "\n",
        "plt.show()"
      ],
      "metadata": {
        "id": "U4luuYXTtvwV"
      },
      "execution_count": null,
      "outputs": []
    },
    {
      "cell_type": "markdown",
      "source": [
        "# Parent graphs"
      ],
      "metadata": {
        "id": "TogmQq9yFQS3"
      }
    },
    {
      "cell_type": "markdown",
      "source": [
        "Notice that Python already includes some math functions, and some functions require you to `import numpy as np` to solve or graph them.<p>\n",
        "<table>\n",
        "<tr><td>Math notation</td><td> Python notation </td></tr>\n",
        "<tr><td> y = x</td><td> y = x</td></tr>\n",
        "<tr><td> y = x<sup>2</sup></td><td> y = x**2 </td></tr>\n",
        "<tr><td> y = x<sup>3</sup></td><td> y = x**3 </td></tr>\n",
        "<tr><td> y = |x|</td><td> y = abs(x) </td></tr>\n",
        "<tr><td> y =  $\\sqrt{x}$</td><td> y = np.sqrt(x) </td></tr>\n",
        "<tr><td> y = x<sup>1/3</sup></td><td> y = np.cbrt(x) </td></tr>\n",
        "<tr><td> y = $\\lfloor x \\rfloor$</td><td> y = np.floor(x) </td></tr>\n",
        "<tr><td> y = 2<sup>x</sup></td><td> y = 2**x </td></tr>\n",
        "<tr><td> y = e<sup>x</sup></td><td> y = math.e**2 </td></tr>\n",
        "<tr><td> y = ln(x)</td><td> y = np.log(x) </td></tr>\n",
        "<tr><td> y = log<sub>2</sub>(x)</td><td> y = np.log2(x) </td></tr>\n",
        "<tr><td> y = log(x)</td><td> y = np.log10(x) </td></tr>"
      ],
      "metadata": {
        "id": "9kC2WgK5H53R"
      }
    },
    {
      "cell_type": "markdown",
      "source": [
        "# Compound interest calculator"
      ],
      "metadata": {
        "id": "fur9FuX0FXzx"
      }
    },
    {
      "cell_type": "markdown",
      "source": [
        "When the compunding happens <i>n</i> times per year:<br>\n",
        "Annuity = P(1 +  $\\frac{r}{n})^{nt}$<p>\n",
        "When the growth is continuous: <br>\n",
        "Annuity = Pe<sup>rt</sup>"
      ],
      "metadata": {
        "id": "Azavu_4iBfOy"
      }
    },
    {
      "cell_type": "code",
      "source": [
        "import math\n",
        "\n",
        "# change these vairables\n",
        "p = 1\n",
        "r = 0.01\n",
        "t =1\n",
        "n = 1\n",
        "\n",
        "n_times = p*(1+(r/n))**(n*t)\n",
        "continous = p*math.e**(r*t)\n",
        "\n",
        "print(\"Annuity when compounded \", n, \"times per year = \", n_times)\n",
        "print(\"Annuity when compounded continuously = \", continous)\n"
      ],
      "metadata": {
        "colab": {
          "base_uri": "https://localhost:8080/"
        },
        "id": "q39RCL32FcgE",
        "outputId": "75c12447-23c2-4602-97d7-289df4906483"
      },
      "execution_count": null,
      "outputs": [
        {
          "output_type": "stream",
          "name": "stdout",
          "text": [
            "Annuity when compounded  1 times per year =  1.01\n",
            "Annuity when compounded continuously =  1.010050167084168\n"
          ]
        }
      ]
    },
    {
      "cell_type": "markdown",
      "source": [
        "# Investment annuity estimator"
      ],
      "metadata": {
        "id": "BnqnD_Z82PzD"
      }
    },
    {
      "cell_type": "code",
      "source": [
        "# change thes variables\n",
        "p = 1000\n",
        "r = 0.08\n",
        "t = 38\n",
        "monthly = 350\n",
        "\n",
        "# update this variable\n",
        "annuity = p\n",
        "\n",
        "# loop for constribution and percent growth\n",
        "for a in range(12*t):\n",
        "  annuity = (annuity + monthly) * (1 + (r/12))\n",
        "print(\"annuity = \", round(annuity, 2))\n",
        "print(\"Annual income from interest = \", round(annuity * r, 2))"
      ],
      "metadata": {
        "colab": {
          "base_uri": "https://localhost:8080/"
        },
        "id": "_fMjMP7I2UT0",
        "outputId": "3a6ec831-8af7-4158-c2c9-01a774a15599"
      },
      "execution_count": 3,
      "outputs": [
        {
          "output_type": "stream",
          "name": "stdout",
          "text": [
            "annuity =  1061597.32\n",
            "Annual income from interest =  84927.79\n"
          ]
        }
      ]
    }
  ]
}